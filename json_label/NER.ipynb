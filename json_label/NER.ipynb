{
 "cells": [
  {
   "source": [
    "# 命名实体识别\n",
    "\n",
    "命名实体识别(Named Entity Recognition,NER)是NLP中一项非常基础的任务。NER是信息提取、问答系统、句法分析、机器翻译等众多NLP任务的重要基础工具。"
   ],
   "cell_type": "markdown",
   "metadata": {}
  },
  {
   "cell_type": "code",
   "execution_count": 1,
   "metadata": {},
   "outputs": [],
   "source": [
    "#coding:utf-8\n",
    "import json\n",
    "import os\n",
    "import numpy as np"
   ]
  },
  {
   "cell_type": "code",
   "execution_count": 58,
   "metadata": {
    "tags": []
   },
   "outputs": [
    {
     "output_type": "stream",
     "name": "stdout",
     "text": [
      "1 \n2 生益科技 ORG\n3 \n4 生益科技 ORG81.52% NUM\n5 \n6 生益科技 ORG2018  NUM益科技 ORG公司 ORG\n7 美国 LOC泰康利 ORG罗杰斯 ORG生益科技 ORG\n8 \n9 100w NUM\n10 NOKIA ORG华为 ORG中兴 ORG浪潮 ORG格力 ORG国星光电 ORG\n11 业绩 PRO预期 TAP\n12 生益科技 ORG企业 ORG业绩 PRO十多年 TIM营收 PRO净利润 PRO双位数 NUM复合增长 ADD\n13 22.9% NUM0.9pct NUM27.7% NUM12.3亿元 NUM公司 ORG前三季度 TIM营收 PRO106.9亿元 NUM同比增 ADD12.9% NUM盈利能力 ROA进一步增强 ADD扣非后归母净利 PRO同比增 ADD毛利率 ROA同比升 ADD三季报 PRO\n14 疫情缓解 CUZ海内外 LOC5G招标加速恢复 CUZ公司 ORG通信覆铜板/PCB TAP形成提振 ADD汽车 TAP家电 TAPPC用CCL TAP远程办公 CUZ等宅家场景 TAP爆发 ADD需求增速 ROA超预期 ADD\n15 三季度 TIM汽车电子 TAP家电 TAP手机 TAP订单 PRO疫情 CUZ公司 ORG新基建 TAP5G通讯 TAP基站 TAP数据中心 TAP医疗等领域 TAP订单 PRO调整销售策略 TAP优化产品销售结构 TAP\n16 公司 ORG收入增速 ROA上游原材料价格 CUZ公司 ORG\n17 全球覆铜板龙头公司 TAP盈利增强 ROA收入 PRO三季报 PRO未来 TIM产能释放 TAP上涨动力足 ADD\n18 覆铜板 TAPPCB（印刷电路板）的上游 TAP5G商用的到来 CUZPCB的需求 TAP爆发 ADDPCB的上游覆铜板 TAP产业链的需求 TAP大增长 ADD公司 ORG2年前 TIM销售总额 PRO全球 LOC排名第二 NUM硬质覆铜板 TAP\n19 0.9pct NUM22.9% NUM27.7% NUM12.9% NUM106.9亿元 NUM公司 ORG前三季度 TIM营收 PRO同比增 ADD盈利能力 ROA进一步增强 ADD扣非后归母净利 PRO12.3亿元 NUM同比增 ADD毛利率 ROA同比升 ADD三季报 PRO\n20 \n21 \n22 爱尔眼科 ORG爱尔眼科 ORG300015.SZ NUM企业 ORG\n23 \n24 商业模式优秀 TAP\n25 12%~15% NUM国内 LOC571亿 NUM眼科医疗市场 NOG较快增长 ADD眼科专科医院 NOG增速更为突出 ADD\n26 \n27 分级连锁 TAP公司 ORG发展模式 TAP\n28 中国 LOC70% NUM90% NUM一二线中心城市 LOC三四线以下的地级县市 LOC人口 PER爱尔 ORG老百姓 PER品牌分级连锁机制 TAP患者居住地和优质医疗资源的巨大区域不平衡 CUZ优质医疗资源 TAP\n29 下级医院 ORG上级医院 NOG下级 NOG上级医院 NOG客户 PER得以优化 ADD整体运营效率 ROA支援和定期培训 TAP低成本 PRO\n30 爱尔眼科 ORG300015.SZ NUM医院规模 PRO远超对手 NOG\n31 爱尔眼科 ORG眼科医院 NOG高门槛 TAP重视科研工作 TAP\n32 盈利能力 ROA快速提升 ADD\n33 公司 ORG0.77PCT NUM18.05% NUM2.13PCTs NUM47.65% NUM报告期内 TIM毛利率 ROA同比仅小幅下降 DEC净利率 ROA同比提升 ADD\n34 盈利能力 ROAQ3单季度视消费类项目快速恢复 CUZ新冠疫情及高考延后 CUZQ3屈光 TAP视光业务 TAP创下历史新高 PRO增速 ROA\n35 85.6/15.46/15.81亿元 NUM10.78%/25.60%/27.99% NUM44.02/8.70/10.02亿元 NUM47.55%/62.34%/85.49% NUM2020 TIM公司 ORG前三季度 TIM营收 PRO归母净利润 PRO扣非归母净利润 PRO同比增长 ADD单三季度 TIM营收 PRO归母净利润 PRO扣非归母净利润 PRO同比增长 ADD\n36 今明两年 TIM业绩 PRO显著增厚 ADD重组事项落地 CUZ\n37 公司 ORG18.70亿元 NUM6月 TIM2020年 TIM15倍 NUM天津中视信 ORG万州爱瑞 ORG宣城眼科医院 ORG开州爱瑞 ORG100%股权 NUM90%股权 NUM90%股权 NUM奥理德视光 ORG100%股权 NUM80%股权 NUM交易对价 TAPPE TAP标的 TAP\n38 2020/2021年 TIM7.6亿/15.0亿元 NUM6.8%/10.3% NUM5.1% NUM7.2% NUM三四线城市 LOC低线城市 LOC收入 PRO增厚 ADD上市公司 NOG归母净利润 PRO0.8亿/1.5亿元 NUM分别增厚 ADD公司资产结构 TAP偿债能力 TAP显著优化 ADD医院 NOG公司规模 PRO区域医院的协同效应 PRO增强 ADD市占率 ROA人口基数大且发展空间广阔 CUZ\n39 眼科医疗集团 NOG业绩 PRO长期 TIM价值标的 TAP全球规模最大的眼科医疗集团 NOG爆发式增长业绩超预期兑现 TAP\n40 85.6/15.46/15.81亿元 NUM10.78%/25.60%/27.99% NUM公司 ORG营收 PRO归母净利润 PRO扣非归母净利润 PRO同比增长 ADD2020前三季度 TIM\n41 眼科医院 ORG公司 ORG今明两年 TIM增厚 ADD业绩 PRO重组事项落地 TAP\n42 7.6亿/15.0亿元 NUM6.8%/10.3% NUM7.2% NUM2020/2021年 TIM6月 TIM公司 ORG天津中视信 ORG0.8亿/1.5亿元 NUM5.1% NUM公司 ORG归母净利润 PRO收入 PRO5家医院 NOG股权 PRO分别增厚 ADD分别增厚 ADD上市公司 NOG资产结构及偿债能力 TAP显著优化 ADD\n43 华北市场 NOG冀东水泥 ORG\n44 河北省 LOC京津冀地区 LOC河北省 LOC冀东水泥 ORG金隅股份 ORG30% NUM23% NUM53% NUM河北 LOC提高 ADD公司 ORG河北 LOC水泥需求 TAP\n45 冀东金隅 LOC提升 ADD上行 ADD区域 LOC\n46 雄安 LOC冬奥会 ORG京津冀一体化发展 TAP\n47 雄安 LOC京津冀 LOC珠三角 LOC\n48 \n49 国家统计局 ORG2011年 TIM2017年 TIM16年 TIM43万吨 NUM101万吨 NUM18年 TIM增长 ADD697万吨 NUM危废生产量 TAP水泥窑协同处置 TAP我国 LOC处置危废量 TAP3431万吨 NUM快速提升 ADD\n50 \n51 同期下滑 DEC同比减少 DEC三季度 TIM去年 TIM北京 LOC二次疫情影响 CUZ综合销量 PRO售价 PRO同比降低 DEC大幅改善 ADD\n52 同期下滑 DEC下滑 DEC三季度 TIM转正 ADD去年 TIM\n53 提升 ADD\n54 中长期 TIM万科 ORG行业龙头 NOG中小房企 NOG提升 ADD收缩 DEC提升 ADD销售规模 PRO万科 ORG高资信龙头房企集中度 NOG行业集中度 NOG持续提升 ADD龙头房企集中度 TAP融资环境恶化 CUZ\n55 \n56 公司 ORG疫情 CUZ正增长 ADD今年 TIM\n57 公司 ORG房地产行业 TAP高业绩预期 TAP转型之路的领先 TAP\n58 四季度 TIM水泥龙头 TAP上周 TIM水泥板块 TAP基本面 TAP涨价逻辑 TAP本周 TIM周度 TIM月度 TIM水泥指数 TAP沪深300 TAP涨价逻辑 TAP业绩超预期 TAP\n59 河北水泥企业 NOG11月9日 TIM四季度 TIM\n60 11月9日 TIM邢台 LOC唐山市 LOC河北省石家庄 LOC重污染天气橙色预警 CUZ水泥厂商 NOGⅡ级应急响应 TAP\n61 京津冀 LOC水泥第一龙头 NOG公司 ORG\n62 \n63 华北市场 NOG\n64 河北省 LOC京津冀地区 LOC河北省 LOC冀东水泥 ORG金隅股份 ORG30% NUM23% NUM53% NUM提高 ADD河北 LOC公司 ORG河北市场 NOG市场份额 NOG水泥需求 TAP\n65 冀东金隅 ORG提升 ADD上行 ADD\n66 雄安 LOC冬奥会 ORG京津冀 LOC\n67 雄安 LOC京津冀 LOC\n68 \n69 国家统计局 ORG2011年 TIM3431万吨 NUM增长 ADD2017年 TIM697万吨 NUM水泥窑协同处置 TAP16年 TIM18年 NUM101万吨 NUM43万吨 NUM提升 ADD危废生产量 TAP危废量 TAP我国 LOC\n70 \n71 同期下滑 DEC北京 LOC二次疫情影响 CUZ同比减少 DEC同比降低 DEC三季度 TIM改善 ADD营业收入增长率 ROA去年 TIM水泥熟料综合销量 PRO售价 PRO\n72 归母净利润 PRO同期下滑 DEC三季度 TIM转正 ADD增长率 ROA去年 TIM水泥熟料产品的毛利润率下滑 CUZ\n73 龙头集中度提升 TAP\n74 万科 ORG中长期 TIM行业龙头 NOG提升 ADD万科 ORG提升 ORG中小房企 NOG提升 ADD销售规模 PRO融资环境恶化 CUZ行业集中度 CUZ\n75 \n76 公司 ORG归母净利润 PRO正增长 ADD今年 TIM疫情影响 CUZ营收 PRO\n77 宏观环境 CUZ房地产行业 TAP公司 ORG\n78 10月 TIM增长 ADD10月 TIM公司 ORG增长 ADD高增 ADD地产龙头公司 NOG高增 ADD销售 PRO业绩 PRO\n79 房地产龙头公司 NOG同比增长 ADD35% NUM21% NUM10月 TIM销售面积 TAP销售金额 TAP单月 TIM\n80 10月份 TIM今年 TIM公司 ORG公司 ORG增长 ADD销售增速 TAP\n81 三棵树 ORG603737 NUM\n82 行业附加值 TAP上游产业 TAP\n83 2019年 TIM同比增长 ADD9.4% NUM回升 ADD涂料行业 TAP原材料降价影响 TAP上游 TAP中游 TAP下游 TAP上游 TAP化工材料（石化） TAP涂料化工 TAP全产业链 TAP地产建筑家具业 TAP平均利润 PRO\n84 行业公司 NOG发展路径 TAP高端化 TAP精细化工战略 TAP\n85 5-10年 TIM新基建 TAP新型城镇化等行业 TAP\n86 \n87 涂料化工 TAP2020-2025年 TIM2019年 TIM2438.80万吨 NUM2.6% NUM3132.32亿元 NUM0.6% NUM229.53亿元 NUM9.4% NUM增长 ADD降低 DEC全年 TIM涂料行业 TAP3%-5%区间 NUM增长 ADD主营业务收入 PRO利润总额 PRO\n88 中短期 TIM旧改增量带动墙面涂料需求 TAP竣工旺盛带动墙面涂料需求下半年释放 TAP\n89 \n90 我国 LOC三棵树 ORG立邦 ORG多乐士 ORG家装涂料领域 TAP两个 NUM基建行业 TAP公司 ORG未来 TIM销售规模 PROB端渠道拓展 CUZ内资超车外资 TAP\n91 2020年 TIM单季度 TIM收入 PRO利润 PRO半年度 TIM公司 ORG几天前 TIM\n92 住房和城乡建设部 ORG今年1-7月 TIM全国 LOC2.22万个 NUM年度 TIM3.9万个 NUM56.4% NUM442.74万户 NUM700万户 NUM62.7% NUM改造城镇老旧小区 TAP年度目标任务 TAP居民 PER\n93 旧改增量 TAP墙面涂料需求 TAP\n94 2020年一季度 TIM新冠疫情影响 CUZ涂料行业公司 NOG一季度 TIM春节因素 CUZ涂料销售 TAP淡季 TIM全年 TIM往年 TIM盈利能力 ROA短期 TIM差 DEC\n95 国内 LOC目前 TIM疫情 CUZ全国 LOC复产复工 TAP政策 CUZ加快 ADD加大 ADD涂料行业 TAP增多 ADD\n96 第二季度 TIM基建投资 TAP房地产投资 TAP收窄 DEC前三季度 TIM利润增速 ROA20% NUM\n97 10月 TIM同比增长 ADD8.46% NUM10年 TIM机构 NOG主板周期行业 TAP住宅竣工面积 TAP\n98 住宅面积 TAP超预期 ADD带动 ADD墙面涂料需求 TAP\n99 10月 TIM住宅竣工面积 TAP同比增长 ADD8.46% NUM年内 TIM首次 NUM正 ADD1-10月 TIM住宅竣工面积 TAP同比下滑 DEC7.9% NUM\n100 年初 TIM疫情 CUZ我们 PER10月 TIM11-12月 TIM家居企业 NOG订单 PRO增速 ROA高 ADD竣工数据 TAP年内 TIM首次 NUM转正 ADD\n101 2021年 TIM5%-10% NUM建材家居 TAP板块 TAP玻璃 TAP涂料 TAP管材 TAP定制 TAP软体 TAP竣工 TAP增速 ROA后周期 TIM目前 TIM零售 TAP\n102 \n103 600426 NUM华鲁恒升 ORG全产业链 TAP\n104  2-3 年 TIM基础煤气化 TAP核心点 TAP产品业务 TAP\n105 公司 ORG煤制乙二醇产业 TAP长短期 TIM\n106 长期看 TIM煤制乙二醇 TAP煤化工领域 TAP\n107 2018 TIM年四季度 TIM公司 ORG乙二醇产线 TAP开始 TIM量产 TAP公司 ORG自主研发催化剂 TAP单吨 NUM0.9 亿元 NUM下降 DEC0.53亿元 NUM目前 TIM公司 ORG乙二醇产线 TAP 9 成 NUM开工率 ROA\n108 煤制乙二醇产业 TAP\n109 国家 LOC政策 CUZ支持 ADD自主知识产权技术 TAP规模 PRO企业 ORG提升 ADD\n110 石油 TAP短期 TIM缺口 TAP煤制乙二醇代替油制 TAP\n111 \n112 \n113 \n114 近一年 TIM公司 ORG生产模式 TAP产品结构 TAP高盈利产品 TAP高产 PRO\n115 2020年一季度 TIM疫情 CUZ公司 ORG营收 PRO归母净利润 PRO下滑 DEC原油价格崩盘 CUZ产品下游需求 TAP减弱 DEC三月份 TIM成本端坍塌 TAP公司 ORG量价齐跌 DEC\n116 华鲁恒升 ORG前三季度 TIM利润 PRO同比下降 DEC30.93% NUM疫情 CUZ宏观经济环境 CUZ下降 DEC产品价格 TAP营业收入 TAP降低 DEC公司 ORG增加 ADD产品总量 TAP目前 TIM生产系统 TAP\n117 \n118 华鲁恒升 ORG一家 NUM综合性煤化工企业 TAP全产业链平台 TAP低成本优势 TAP\n119 化工品种DMF TAP上涨 ADD价格 TAP十年来 TIM产能第一龙头 NOG业绩 PRO预期差 TAPDMF价格 TAP上涨 ADD公司 ORG三季度 TIM预期差 TAP业绩 PRO\n120 化工行业 TAP公司 ORG10年 TIM向上 ADD股价 TAP\n121 DMF价格 TAP7月 TIM累计涨幅 ADD63% NUM十年 TIM5月 TIM新高 TAP浙江交科 ORG江山基地生产装置 TAP停产 TAP行业产能 TAP16% NUM收缩幅度 DEC下游聚氨酯市场 TAP国内外 LOC需求 TAP复苏 ADD旺季 TIM供需格局明显趋紧 CUZ国内 LOCDMF生产企业 NOG8家 NUM公司 ORG行业龙头 NOG28% NUMDMF价格的上涨 CUZ产能占比 TAP\n122 中国巨石 ORG600176 NUM\n123 二季度 TIM玻纤行业库存 TAP下滑 DEC国内外 LOC好 ADD需求 TAP\n124 世界级玻璃纤维龙头 NOG\n125 中国巨石 ORG世界级玻璃纤维龙头 NOG\n126 公司 ORG21% NUM35% NUM国内 LOC市占率 ROA市占率 ROA\n127 \n128 中国巨石 ORG五大客户 NOG公司销售 PRO12% NUM收入 PRO\n129 公司 ORG中国巨石 ORG交运 TAP电子 TAP建筑材料 TAP风电 TAP新兴企业 TAP产品下游 TAP营业收入 PRO应收账款 PRO应付账款 PRO应收账款 PRO比重不高 ROA\n130 \n131 2018年12月17日 TIM6万吨 NUM电子级玻纤池窑生产线 TAP公司 ORG\n132 近期 TIM智能制造基地的首条生产线 TAP\n133 国内 LOC单体池窑 TAP产能最大 TAP技术最优 TAP设备最先进 TAP一条生产线 TAP\n134 项目 TAP产能 TAP4倍 NUM\n135 公司 ORG超预期 ROA下半年 TIM量价 TAP产能扩张 CUZ\n136 中国巨石 ORG玻璃纤维龙头企业 TAP\n137 海外市场 LOC疫情 CUZ世界级玻璃纤维龙头 NOG\n138 公司 ORG世界级玻璃纤维龙头 NOG辉瑞疫苗 CUZ上升 ADD风险偏好 TAP海外利润 PRO40% NUM50% NUM疫情 CUZ\n139 玻纤行业 TAP中长期 TIM电子纱价格 TAP超预期 TAP\n140 \n141 万集科技 ORG300552 NUM\n142 \n143 \n144 万集科技 ORG3月26日 TIM我国 LOC无人驾驶 TAP车路协同 TAP5G技术 TAPV2X+路侧3D激光雷达 TAP他 PER首创 TIM\n145 激光监测 TAP公司 ORG激光检测业务 TAP收入 PRO去年 TIM同期稳步增长 ADD公司 ORG激光检测产品 TAP北京 LOC浙江 LOC河北 LOC天津 LOC十几个 NUM省市 LOC\n146 智能基站 TAP交通数据毫秒级传输 TAP万集科技 ORG核心实力 TAP万集 ORG3D激光雷达 TAP降低 DEC网络负荷与时延 TAP建立边缘计算节点 TAP\n147 \n148 全路正式运营条件 TAP山东 LOC项目 TAP江苏盐城 LOC项目也落地 TAP\n149 \n150 2017年 TIM2018年 TIM归母净利润 PRO同比增速 ROA-45% NUM-83% NUM-1% NUM10% NUM营业收入 PRO增速 ROA\n151 两年 TIM利润 PRO营收 PRO增速 ROA导致 CUZETC业务 TAP行业增速 CUZ放缓 DEC区域 LOC招标时间 TIM预期 ROA\n152 2019年 TIMetc行业政策 TAP今年前三季度 TIM业绩 PRO利好 TAP业务利润 PRO去年 TIM疫情 CUZ营收 PRO下滑 DEC持平 TAP\n153 万集科技 ORG业绩 PRO兑现 TAPV2X业务全球领先 TAP\n154 高速自动驾驶 TAP今年 TIM我国 LOC2个 NUM基地 TAP他 PER首创 TAP\n155 公司 ORG业绩 PRO车联网 TAP称重 TAP高增 ROA预期 TAP\n156 公司 ORGETC行业龙头 NOG市场集中度较高 TAP份额 PRO连续五年 TIM前三 NUM万亿级 NUMETC TAPRSU建设量 TAP持续增长 ADD2020-11-20 TIM2020-11-26 TIM15:30 TIM\n157 创业慧康 ORG医疗信息化 TAP300451 NUM\n158 \n159 疫情后 CUZ国家医保局 ORG国家卫健委 ORG等直接相关部门 NOG多次 NUM推动 CUZ规范 CUZ政策 TAP政策 TAP降低 DEC政策细则不断出台 CUZ行业边界不断确定 CUZ监管方式不断明确 CUZ行业发展的不确定因素 CUZ\n160 行业集中度高 TAP前8名 NUM国内 LOC80% NUM卫宁健康 ORG创业惠康 ORG创业软件 ORG行业双龙头 NOG三级医院 NOG\n161 两者 NUM卫宁 ORG3次 NUM收购 TAP2015年 TIM快速上升 ADD创业慧康 ORG2015年 TIM华南地区 LOC收入 PRO2016年 TIM快速增长 ADD收入 PRO华北地区 LOC中山项目 TAP\n162 公司 ORG行业景气度 CUZ集中度双升 CUZ\n163 公司 ORG医疗信息化应用软件的提供商 TAP三大事业群 TAP医保事业部 TAP2019 TIM四大产品服务板块 TAP产品及服务 TAP\n164 公司 ORG10000个 NUM医疗卫生信息化 TAP6000多家 NUM340多个 NUM2019年1月份 TIM公司 ORG福建协和医院智能医院 ORG1.47亿元 NUM2.4亿份 NUM居民 PER健康档案 TAP行业用户数量 TAP地方政府 NOG高速增长 ADD订单 PRO\n165 健康城市全国复制 TAP2个 NUM中山区 LOC自贡市 LOC2019年 TIM远程医疗 TAP双向转诊 TAP药品管理 TAP智慧医养等 TAP健康城市运营项目 TAP\n166 医疗大数据 TAP南京 LOC广东 LOC福建 LOC山西 LOC数个 NUM大数据应用决策建设 TAP千万级别 NUM上海市 LOC400家 NUM医院 NOG成功推广 ADD\n167 2018年 TIM阿里 ORG腾讯 ORG联想 ORG移动支付 TAP工业设计 TAP智能设备研发与生产等领域 TAP与大企业合作 TAP\n168 3季度 TIM订单金额 PRO增长良好 ADD，医疗IT龙头 NOG全年 TIM业绩 PRO3季度 TIM订单金额 PRO增长良好 ADD全年 TIM业绩 PRO医疗IT龙头 NOG\n169 公司 ORG国内 LOC屈指可数 NUM医疗卫生信息化软件供应商 TAP之一 NUM\n170 采招网 ORG3季度 TIM公司 ORG订单金额 PRO基本平稳 ROA增长良好 ADD项目数量 PRO\n171 大额订单 PRO增加 ADD行业景气度 TAP有序回升 ADD公司 ORG市场复苏和新产品推广 TAP今年 TIM业绩 PRO稳健 ROA\n172 \n173 300037 NUM新宙邦 ORG锂电池电解液行业 TAP新宙邦 ORG\n174 电池中国统计 ORG比亚迪 ORGLG ORG中宁德时代 ORG电解液下游 NOG45% NUM电解液需求量 TAP增速 ADD\n175 锂电池电解液下游众多 TAP新能源汽车 TAP3C消费等领域 TAP\n176 高工锂电 ORG电解液行业 TAP第二名 NUM新宙邦 ORG行业份额 PRO提升明显 ADD第二三梯队 NUM市场份额 PRO急剧萎缩 DEC\n177 天赐材料 ORG永太科技 ORG等巨头 NOG加速 ADD布局新产品 TAP新宙邦 ORG实现量产 TAP高镍化趋势 TAP\n178 2013 年 TIM新宙邦 ORG300037.SZ NUM三星 ORG索尼 ORG松下 ORG持续拉大 ADD优势 ROA行业内 TAP供应商 NOG\n179 毛利率 ROA净利率 ROA历史新高 ADD四大板块 TAP亮眼 ADD\n180 电解液 TAP原材料跌价 CUZ海外需求旺盛 CUZ量利齐升 TAP吨盈利 ROA同比显著改善 ADD海外需求旺盛 CUZ上半年 TIM电解液产销量 PRO同比增长明显 ADD毛利率 ROA提升 ADD1.52个百分点 NUM29.01% NUM叠加原材料跌价 CUZ客户结构优化 CUZ\n181 订单充足 PRO毛利率 ROA去年同期 TIM56.3% NUM63.45% NUM提高 ADD表现持续亮眼 ROA六氟丙烯 TAP持续跌价 DEC氟化工医药中间体 TAP\n182 产品创新 CUZ降本增效 CUZ竞争对手关停 CUZ毛利率 ROA39.33% NUM公司 ORG市场地位 TAP控本能力 TAP电容化学品 TAP较高水平 ROA\n183 半导体化学品 TAP收入 PRO下滑 DEC毛利率 ROA提升 ADD3.1% NUM20.93% NUM盈利拐点 TAP\n184 上述因素 CUZ上半年 TIM公司 ORG35.61% NUM提升 ORG39.84% NUM叠加费用率 ROA去年同期 TIM21.56% NUM下降 DEC18.63% NUM净利润 PRO同比增长 ADD77.31% NUM毛利率 ROA半年报 TIM业绩 PRO亮眼 PRO\n185 2020年前三季度, TIM公司 ORG新能源汽车行业逐步升温 CUZ电池化学品国内外市场需求增长 CUZ公司电池化学品业绩持续提升 CUZ疫情 CUZ医药中间体出货 PRO快速增长 ADD氟化工业务 TAP高增长态势 ADD业绩 PRO同比明显增长 ADD\n186 新宙邦 ORG300037.SZ NUM全球最大超容电解液供应商 NOG50% NUM全球市占 ROA国内 LOC全品类龙头 TAP铝电解 TAP70% NUM超级电容 TAP 10% NUM占比 ROA占比 ROA公司 ORG高端氟化工的业务 TAP\n187 毛利率 ROA40% NUM净利率 ROA77% NUM四大业务板块 TAP毛利率 ROA净利率 ROA电解液龙头基本面质地 ROA历史新高 PRO\n188 公司 ORG新能源行业正宗龙头 TAPA股 TAP唯一 NUM电解液全产业链布局 TAP公司 ORG半导体化学业务 TAP一部分 NUM\n189 2020年前三季度 TIM公司 ORG业绩 PRO同比明显增长 ADD新能源汽车行业逐步升温 CUZ电池化学品国内外市场需求增长 CUZ公司电池化学品业绩持续提升 CUZ疫情 CUZ医药中间体 TAP出货 PRO增长 ADD氟化工业务 TAP高增长 ADD\n"
     ]
    }
   ],
   "source": [
    "with open('path_json.json','r',encoding='utf-8') as jsonf:\n",
    "    jsonlines = jsonf.readlines()\n",
    "    jsondicts = []\n",
    "    for i in range(len(jsonlines)):\n",
    "        jsondict = json.loads(jsonlines[i])\n",
    "        jsondicts.append(jsondict)\n",
    "        labels = jsondict[\"labels\"] \n",
    "        txt = \"\"\n",
    "        for j in range(len(labels)):\n",
    "            txt += jsondict['text'][labels[j][0]:labels[j][1]] +\" \"+ labels[j][2]+\" \"\n",
    "        print(i+1,txt)"
   ]
  },
  {
   "cell_type": "code",
   "execution_count": 34,
   "metadata": {},
   "outputs": [
    {
     "output_type": "execute_result",
     "data": {
      "text/plain": [
       "{'id': 24,\n",
       " 'text': '①商业模式优秀',\n",
       " 'meta': {},\n",
       " 'annotation_approver': None,\n",
       " 'labels': [[1, 7, 'TAP']]}"
      ]
     },
     "metadata": {},
     "execution_count": 34
    }
   ],
   "source": [
    "jsondict = json.loads(jsonlines[23])\n",
    "jsondict"
   ]
  },
  {
   "cell_type": "code",
   "execution_count": 32,
   "metadata": {},
   "outputs": [
    {
     "output_type": "execute_result",
     "data": {
      "text/plain": [
       "'商业模式优秀'"
      ]
     },
     "metadata": {},
     "execution_count": 32
    }
   ],
   "source": [
    "jsondict['text'] [ jsondict[\"labels\"][0][0] : jsondict[\"labels\"][0][1]]"
   ]
  },
  {
   "cell_type": "code",
   "execution_count": null,
   "metadata": {},
   "outputs": [],
   "source": []
  }
 ],
 "metadata": {
  "kernelspec": {
   "display_name": "Python 3",
   "language": "python",
   "name": "python3"
  },
  "language_info": {
   "codemirror_mode": {
    "name": "ipython",
    "version": 3
   },
   "file_extension": ".py",
   "mimetype": "text/x-python",
   "name": "python",
   "nbconvert_exporter": "python",
   "pygments_lexer": "ipython3",
   "version": "3.8.3-final"
  }
 },
 "nbformat": 4,
 "nbformat_minor": 2
}