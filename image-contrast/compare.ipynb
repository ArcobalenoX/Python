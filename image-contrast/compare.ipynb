{
 "cells": [
  {
   "cell_type": "code",
   "execution_count": 12,
   "source": [
    "import glob\r\n",
    "import math\r\n",
    "import numpy as np\r\n",
    "from skimage.metrics import structural_similarity as ssim\r\n",
    "from skimage.metrics import peak_signal_noise_ratio as psnr\r\n",
    "from PIL import Image\r\n",
    "import cv2\r\n",
    "import os\r\n"
   ],
   "outputs": [],
   "metadata": {}
  },
  {
   "cell_type": "code",
   "execution_count": null,
   "source": [],
   "outputs": [],
   "metadata": {}
  },
  {
   "cell_type": "code",
   "execution_count": 5,
   "source": [
    "folder_BSL = r\"BSL\"\r\n",
    "folder_OCT = r\"OCT\"\r\n",
    "folder_GT = r\"GT\""
   ],
   "outputs": [],
   "metadata": {}
  },
  {
   "cell_type": "code",
   "execution_count": 35,
   "source": [
    "img_list = sorted(glob.glob(folder_GT + '/*'))\r\n",
    "psnrchazhi = {}\r\n",
    "ssimchazhi = {}\r\n",
    "for img_path in img_list:\r\n",
    "\r\n",
    "    base_name = os.path.splitext(os.path.basename(img_path))[0]\r\n",
    "\r\n",
    "    im_GT = cv2.imread(img_path)[:, :, [2, 1, 0]] / 255.\r\n",
    "    #cv2.cvtColor(im_OCT, cv2.COLOR_BGR2RGB)\r\n",
    "    im_BSL = cv2.imread(os.path.join(folder_BSL, base_name + '.png'))[:, :, [2, 1, 0]] / 255.\r\n",
    "    im_OCT = cv2.imread(os.path.join(folder_OCT, base_name + '.png'))[:, :, [2, 1, 0]] / 255.\r\n",
    "\r\n",
    "    GT_BSL_PSNR = psnr(im_GT,im_BSL)\r\n",
    "    GT_OCT_PSNR = psnr(im_GT,im_OCT)\r\n",
    "    BSL_SUB_OCT_PSNR = GT_BSL_PSNR - GT_OCT_PSNR\r\n",
    "    psnrchazhi[f'{base_name}'] = BSL_SUB_OCT_PSNR\r\n",
    "\r\n",
    "\r\n",
    "    GT_BSL_SSIM = ssim(im_GT,im_BSL, multichannel=True)\r\n",
    "    GT_OCT_SSIM = ssim(im_GT,im_OCT, multichannel=True)\r\n",
    "    BSL_SUB_OCT_SSIM = GT_BSL_SSIM-GT_OCT_SSIM\r\n",
    "    ssimchazhi[f'{base_name}'] = BSL_SUB_OCT_SSIM    \r\n",
    "\r\n",
    "\r\n",
    "    print(f'{base_name},psnr: {GT_BSL_PSNR:.2f}, {GT_OCT_PSNR:.2f} ' )\r\n",
    "    #print(f'{GT_BSL_SSIM:.3f}, {GT_OCT_SSIM:.3f}')\r\n",
    "psnrchazhi=sorted(psnrchazhi.items(),key=lambda tp:tp[1],reverse=True)"
   ],
   "outputs": [
    {
     "output_type": "stream",
     "name": "stdout",
     "text": [
      "airport_41,psnr: 33.52, 33.19 \n",
      "airport_42,psnr: 32.12, 31.66 \n",
      "airport_43,psnr: 35.18, 35.01 \n",
      "airport_44,psnr: 34.03, 33.81 \n",
      "airport_45,psnr: 35.74, 35.57 \n",
      "airport_46,psnr: 39.01, 38.97 \n",
      "airport_47,psnr: 31.76, 31.29 \n",
      "airport_48,psnr: 31.73, 31.50 \n",
      "airport_49,psnr: 33.11, 32.91 \n",
      "airport_50,psnr: 31.54, 31.18 \n"
     ]
    }
   ],
   "metadata": {}
  },
  {
   "cell_type": "code",
   "execution_count": 36,
   "source": [
    "psnrchazhi"
   ],
   "outputs": [
    {
     "output_type": "execute_result",
     "data": {
      "text/plain": [
       "[('airport_47', 0.4641016009955905),\n",
       " ('airport_42', 0.4614120642839836),\n",
       " ('airport_50', 0.36632839549055873),\n",
       " ('airport_41', 0.33143259254437396),\n",
       " ('airport_48', 0.22932869484257878),\n",
       " ('airport_44', 0.22202604570863116),\n",
       " ('airport_49', 0.19627643562446195),\n",
       " ('airport_45', 0.17298248668726046),\n",
       " ('airport_43', 0.16835821148396946),\n",
       " ('airport_46', 0.037922134017897235)]"
      ]
     },
     "metadata": {},
     "execution_count": 36
    }
   ],
   "metadata": {}
  },
  {
   "cell_type": "code",
   "execution_count": 37,
   "source": [
    "ssimchazhi"
   ],
   "outputs": [
    {
     "output_type": "execute_result",
     "data": {
      "text/plain": [
       "{'airport_41': 0.0015569809870835671,\n",
       " 'airport_42': 0.0018009152585213295,\n",
       " 'airport_43': 0.0006664293483260586,\n",
       " 'airport_44': 0.0008393725317514811,\n",
       " 'airport_45': 0.0005969206933538196,\n",
       " 'airport_46': 2.3000206959444824e-05,\n",
       " 'airport_47': 0.002767199210840121,\n",
       " 'airport_48': 0.001212932348256146,\n",
       " 'airport_49': 0.0016782026729256216,\n",
       " 'airport_50': 0.0018381347017503158}"
      ]
     },
     "metadata": {},
     "execution_count": 37
    }
   ],
   "metadata": {}
  },
  {
   "cell_type": "code",
   "execution_count": null,
   "source": [],
   "outputs": [],
   "metadata": {}
  }
 ],
 "metadata": {
  "orig_nbformat": 4,
  "language_info": {
   "name": "python",
   "version": "3.8.5",
   "mimetype": "text/x-python",
   "codemirror_mode": {
    "name": "ipython",
    "version": 3
   },
   "pygments_lexer": "ipython3",
   "nbconvert_exporter": "python",
   "file_extension": ".py"
  },
  "kernelspec": {
   "name": "python3",
   "display_name": "Python 3.8.5 64-bit ('pytorch': conda)"
  },
  "interpreter": {
   "hash": "c2c0bba31bef276960c92166e4dc324d20d321691368e020af08fea8957d0a65"
  }
 },
 "nbformat": 4,
 "nbformat_minor": 2
}