{
 "cells": [
  {
   "cell_type": "code",
   "execution_count": 8,
   "metadata": {},
   "outputs": [],
   "source": [
    "import torch.nn as nn\n",
    "import math\n",
    "import torch.utils.model_zoo as model_zoo\n",
    "import torch\n",
    "import torch.nn.functional as F\n",
    "import numpy as np\n"
   ]
  },
  {
   "cell_type": "code",
   "execution_count": 9,
   "metadata": {},
   "outputs": [],
   "source": [
    "def compute_num_params(model, text=True):\n",
    "    tot = int(sum([np.prod(p.shape) for p in model.parameters()]))\n",
    "    #tot = sum([ p.nelement() for p in model.parameters()])\n",
    "    if text:\n",
    "        if tot >= 1e6:\n",
    "            return '{:.1f}M'.format(tot / 1e6)\n",
    "        else:\n",
    "            return '{:.1f}K'.format(tot / 1e3)\n",
    "    else:\n",
    "        return tot"
   ]
  },
  {
   "cell_type": "code",
   "execution_count": 10,
   "metadata": {},
   "outputs": [],
   "source": [
    "from res2net import model_urls,Bottle2neck,Res2Net\n",
    "\n",
    "def res2net50(pretrained=False, **kwargs):\n",
    "    \"\"\"Constructs a Res2Net-50 model.\n",
    "    Res2Net-50 refers to the Res2Net-50_26w_4s.\n",
    "    Args:\n",
    "        pretrained (bool): If True, returns a model pre-trained on ImageNet\n",
    "    \"\"\"\n",
    "    model = Res2Net(Bottle2neck, [3, 4, 6, 3], baseWidth = 26, scale = 4, **kwargs)\n",
    "    if pretrained:\n",
    "        model.load_state_dict(model_zoo.load_url(model_urls['res2net50_26w_4s']))\n",
    "    return model\n",
    "\n",
    "def res2net50_26w_4s(pretrained=False, **kwargs):\n",
    "    \"\"\"Constructs a Res2Net-50_26w_4s model.\n",
    "    Args:\n",
    "        pretrained (bool): If True, returns a model pre-trained on ImageNet\n",
    "    \"\"\"\n",
    "    model = Res2Net(Bottle2neck, [3, 4, 6, 3], baseWidth = 26, scale = 4, **kwargs)\n",
    "    if pretrained:\n",
    "        model.load_state_dict(model_zoo.load_url(model_urls['res2net50_26w_4s']))\n",
    "    return model\n",
    "\n",
    "def res2net101_26w_4s(pretrained=False, **kwargs):\n",
    "    \"\"\"Constructs a Res2Net-50_26w_4s model.\n",
    "    Args:\n",
    "        pretrained (bool): If True, returns a model pre-trained on ImageNet\n",
    "    \"\"\"\n",
    "    model = Res2Net(Bottle2neck, [3, 4, 23, 3], baseWidth = 26, scale = 4, **kwargs)\n",
    "    if pretrained:\n",
    "        model.load_state_dict(model_zoo.load_url(model_urls['res2net101_26w_4s']))\n",
    "    return model\n",
    "\n",
    "def res2net50_26w_6s(pretrained=False, **kwargs):\n",
    "    \"\"\"Constructs a Res2Net-50_26w_4s model.\n",
    "    Args:\n",
    "        pretrained (bool): If True, returns a model pre-trained on ImageNet\n",
    "    \"\"\"\n",
    "    model = Res2Net(Bottle2neck, [3, 4, 6, 3], baseWidth = 26, scale = 6, **kwargs)\n",
    "    if pretrained:\n",
    "        model.load_state_dict(model_zoo.load_url(model_urls['res2net50_26w_6s']))\n",
    "    return model\n",
    "\n",
    "def res2net50_26w_8s(pretrained=False, **kwargs):\n",
    "    \"\"\"Constructs a Res2Net-50_26w_4s model.\n",
    "    Args:\n",
    "        pretrained (bool): If True, returns a model pre-trained on ImageNet\n",
    "    \"\"\"\n",
    "    model = Res2Net(Bottle2neck, [3, 4, 6, 3], baseWidth = 26, scale = 8, **kwargs)\n",
    "    if pretrained:\n",
    "        model.load_state_dict(model_zoo.load_url(model_urls['res2net50_26w_8s']))\n",
    "    return model\n",
    "\n",
    "def res2net50_48w_2s(pretrained=False, **kwargs):\n",
    "    \"\"\"Constructs a Res2Net-50_48w_2s model.\n",
    "    Args:\n",
    "        pretrained (bool): If True, returns a model pre-trained on ImageNet\n",
    "    \"\"\"\n",
    "    model = Res2Net(Bottle2neck, [3, 4, 6, 3], baseWidth = 48, scale = 2, **kwargs)\n",
    "    if pretrained:\n",
    "        model.load_state_dict(model_zoo.load_url(model_urls['res2net50_48w_2s']))\n",
    "    return model\n",
    "\n",
    "def res2net50_14w_8s(pretrained=False, **kwargs):\n",
    "    \"\"\"Constructs a Res2Net-50_14w_8s model.\n",
    "    Args:\n",
    "        pretrained (bool): If True, returns a model pre-trained on ImageNet\n",
    "    \"\"\"\n",
    "    model = Res2Net(Bottle2neck, [3, 4, 6, 3], baseWidth = 14, scale = 8, **kwargs)\n",
    "    if pretrained:\n",
    "        model.load_state_dict(model_zoo.load_url(model_urls['res2net50_14w_8s']))\n",
    "    return model\n",
    "\n"
   ]
  },
  {
   "cell_type": "code",
   "execution_count": 11,
   "metadata": {},
   "outputs": [
    {
     "name": "stdout",
     "output_type": "stream",
     "text": [
      "45206688\n",
      "torch.Size([1, 1000])\n"
     ]
    }
   ],
   "source": [
    "\n",
    "images = torch.rand(1, 3, 224, 224).cuda(0)\n",
    "model = res2net101_26w_4s(pretrained=True)\n",
    "model = model.cuda(0)\n",
    "#print(model)\n",
    "print(compute_num_params(model,False))\n",
    "print(model(images).size())"
   ]
  },
  {
   "cell_type": "code",
   "execution_count": null,
   "metadata": {},
   "outputs": [],
   "source": []
  },
  {
   "cell_type": "code",
   "execution_count": 12,
   "metadata": {},
   "outputs": [
    {
     "name": "stdout",
     "output_type": "stream",
     "text": [
      "72.4K\n"
     ]
    }
   ],
   "source": [
    "neck = Bottle2neck(inplanes=256,planes=64)\n",
    "print(compute_num_params(neck,True))"
   ]
  },
  {
   "cell_type": "code",
   "execution_count": 13,
   "metadata": {},
   "outputs": [
    {
     "data": {
      "text/plain": [
       "Bottle2neck(\n",
       "  (conv1): Conv2d(256, 104, kernel_size=(1, 1), stride=(1, 1), bias=False)\n",
       "  (bn1): BatchNorm2d(104, eps=1e-05, momentum=0.1, affine=True, track_running_stats=True)\n",
       "  (convs): ModuleList(\n",
       "    (0): Conv2d(26, 26, kernel_size=(3, 3), stride=(1, 1), padding=(1, 1), bias=False)\n",
       "    (1): Conv2d(26, 26, kernel_size=(3, 3), stride=(1, 1), padding=(1, 1), bias=False)\n",
       "    (2): Conv2d(26, 26, kernel_size=(3, 3), stride=(1, 1), padding=(1, 1), bias=False)\n",
       "  )\n",
       "  (bns): ModuleList(\n",
       "    (0): BatchNorm2d(26, eps=1e-05, momentum=0.1, affine=True, track_running_stats=True)\n",
       "    (1): BatchNorm2d(26, eps=1e-05, momentum=0.1, affine=True, track_running_stats=True)\n",
       "    (2): BatchNorm2d(26, eps=1e-05, momentum=0.1, affine=True, track_running_stats=True)\n",
       "  )\n",
       "  (conv3): Conv2d(104, 256, kernel_size=(1, 1), stride=(1, 1), bias=False)\n",
       "  (bn3): BatchNorm2d(256, eps=1e-05, momentum=0.1, affine=True, track_running_stats=True)\n",
       "  (relu): ReLU(inplace=True)\n",
       ")"
      ]
     },
     "execution_count": 13,
     "metadata": {},
     "output_type": "execute_result"
    }
   ],
   "source": [
    "neck"
   ]
  },
  {
   "cell_type": "code",
   "execution_count": 42,
   "metadata": {},
   "outputs": [
    {
     "name": "stdout",
     "output_type": "stream",
     "text": [
      "torch.Size([1, 256, 224, 224])\n"
     ]
    }
   ],
   "source": [
    "inf = torch.rand(1,256,224,224)\n",
    "outf = neck(inf)\n",
    "print(outf.shape)"
   ]
  },
  {
   "cell_type": "code",
   "execution_count": 11,
   "metadata": {},
   "outputs": [
    {
     "name": "stdout",
     "output_type": "stream",
     "text": [
      "25.7M\n"
     ]
    }
   ],
   "source": [
    "model_res2net50_26w_4s = res2net50_26w_4s()\n",
    "print(compute_num_params(model_res2net50_26w_4s))"
   ]
  },
  {
   "cell_type": "code",
   "execution_count": 12,
   "metadata": {},
   "outputs": [
    {
     "name": "stdout",
     "output_type": "stream",
     "text": [
      "25.3M\n"
     ]
    }
   ],
   "source": [
    "model_res2net50_48w_2s = res2net50_48w_2s()\n",
    "print(compute_num_params(model_res2net50_48w_2s))\n"
   ]
  },
  {
   "cell_type": "code",
   "execution_count": 13,
   "metadata": {},
   "outputs": [
    {
     "name": "stdout",
     "output_type": "stream",
     "text": [
      "25.1M\n"
     ]
    }
   ],
   "source": [
    "model_res2net50_14w_8s = res2net50_14w_8s()\n",
    "print(compute_num_params(model_res2net50_14w_8s))\n"
   ]
  },
  {
   "cell_type": "code",
   "execution_count": 16,
   "metadata": {},
   "outputs": [
    {
     "name": "stdout",
     "output_type": "stream",
     "text": [
      "37.1M\n"
     ]
    }
   ],
   "source": [
    "model_res2net50_26w_6s = res2net50_26w_6s()\n",
    "print(compute_num_params(model_res2net50_26w_6s))\n"
   ]
  },
  {
   "cell_type": "code",
   "execution_count": 15,
   "metadata": {},
   "outputs": [
    {
     "name": "stdout",
     "output_type": "stream",
     "text": [
      "48.4M\n"
     ]
    }
   ],
   "source": [
    "model_res2net50_26w_8s = res2net50_26w_8s()\n",
    "print(compute_num_params(model_res2net50_26w_8s))\n"
   ]
  },
  {
   "cell_type": "code",
   "execution_count": 14,
   "metadata": {},
   "outputs": [
    {
     "name": "stdout",
     "output_type": "stream",
     "text": [
      "45.2M\n"
     ]
    }
   ],
   "source": [
    "model_res2net101_26w_4s = res2net101_26w_4s()\n",
    "print(compute_num_params(model_res2net101_26w_4s))\n"
   ]
  },
  {
   "cell_type": "code",
   "execution_count": null,
   "metadata": {},
   "outputs": [],
   "source": []
  },
  {
   "cell_type": "code",
   "execution_count": null,
   "metadata": {},
   "outputs": [],
   "source": []
  },
  {
   "cell_type": "code",
   "execution_count": null,
   "metadata": {},
   "outputs": [],
   "source": []
  }
 ],
 "metadata": {
  "kernelspec": {
   "display_name": "Python 3.8.5 ('pytorch')",
   "language": "python",
   "name": "python3"
  },
  "language_info": {
   "codemirror_mode": {
    "name": "ipython",
    "version": 3
   },
   "file_extension": ".py",
   "mimetype": "text/x-python",
   "name": "python",
   "nbconvert_exporter": "python",
   "pygments_lexer": "ipython3",
   "version": "3.8.5"
  },
  "orig_nbformat": 4,
  "vscode": {
   "interpreter": {
    "hash": "5b5292cc5f82d8561d05c044f8ed41e8f78352f5ad17a4513f2686858f295381"
   }
  }
 },
 "nbformat": 4,
 "nbformat_minor": 2
}
