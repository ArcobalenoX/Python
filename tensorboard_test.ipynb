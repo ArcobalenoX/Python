{
 "cells": [
  {
   "cell_type": "markdown",
   "metadata": {},
   "source": [
    "- 1.提供一个路径，将使用该路径来保存日志\n",
    "- 2.无参数，默认将使用 runs/日期时间 路径来保存日志\n",
    "- 3.提供一个 comment 参数，将使用 runs/日期时间-comment 路径来保存日志"
   ]
  },
  {
   "cell_type": "code",
   "execution_count": 1,
   "metadata": {},
   "outputs": [],
   "source": [
    "from tensorboardX import SummaryWriter\n",
    "# Creates writer1 object.\n",
    "# The log will be saved in 'runs/exp'\n",
    "writer1 = SummaryWriter('runs/exp')"
   ]
  },
  {
   "cell_type": "code",
   "execution_count": null,
   "metadata": {},
   "outputs": [],
   "source": [
    "# Creates writer2 object with auto generated file name\n",
    "# The log directory will be something like 'runs/Aug20-17-20-33'\n",
    "writer2 = SummaryWriter()"
   ]
  },
  {
   "cell_type": "code",
   "execution_count": null,
   "metadata": {},
   "outputs": [],
   "source": [
    "# Creates writer3 object with auto generated file name, the comment will be appended to the filename.\n",
    "# The log directory will be something like 'runs/Aug20-17-20-33-resnet'\n",
    "writer3 = SummaryWriter(comment='_TEST')"
   ]
  },
  {
   "cell_type": "markdown",
   "metadata": {},
   "source": [
    "# 标量 scalar"
   ]
  },
  {
   "cell_type": "code",
   "execution_count": null,
   "metadata": {},
   "outputs": [],
   "source": [
    "from tensorboardX import SummaryWriter\n",
    "writer = SummaryWriter('runs/scalar_example')\n",
    "for i in range(10):\n",
    "    writer.add_scalar('quadratic', i**2, global_step=i)\n",
    "    writer.add_scalar('exponential', 2**i, global_step=i)\n"
   ]
  },
  {
   "cell_type": "code",
   "execution_count": null,
   "metadata": {},
   "outputs": [],
   "source": [
    "writer = SummaryWriter('runs/another_scalar_example')\n",
    "for i in range(10):\n",
    "    writer.add_scalar('quadratic', i**3, global_step=i)\n",
    "    writer.add_scalar('exponential', 3**i, global_step=i)\n"
   ]
  },
  {
   "cell_type": "markdown",
   "metadata": {},
   "source": [
    "# 图片 image"
   ]
  },
  {
   "cell_type": "code",
   "execution_count": 2,
   "metadata": {},
   "outputs": [],
   "source": [
    "from torchvision import transforms\n",
    "from PIL import Image\n",
    "from torchvision.io import read_image\n",
    "#img = transforms.ToTensor()(Image.open('testimg\\commercial_01.jpg').convert('RGB'))\n",
    "#img2 = transforms.ToTensor()(Image.open(r'testimg\\x4nobn\\airport_01.jpg').convert('RGB'))\n"
   ]
  },
  {
   "cell_type": "code",
   "execution_count": 3,
   "metadata": {},
   "outputs": [],
   "source": [
    "writer = SummaryWriter('runs/image_example')\n",
    "img = read_image('picture./001.jpg')\n",
    "writer.add_image('test',img,1)\n",
    "#writer.add_image('test',img2,2)\n",
    "\n"
   ]
  },
  {
   "cell_type": "code",
   "execution_count": 5,
   "metadata": {},
   "outputs": [],
   "source": [
    "writer.flush()"
   ]
  },
  {
   "cell_type": "markdown",
   "metadata": {},
   "source": [
    "# 直方图 historgram"
   ]
  },
  {
   "cell_type": "code",
   "execution_count": null,
   "metadata": {},
   "outputs": [],
   "source": [
    "from tensorboardX import SummaryWriter\n",
    "import numpy as np\n",
    "\n",
    "writer = SummaryWriter('runs/embedding_example')\n",
    "writer.add_histogram('normal_centered', np.random.normal(0, 1, 1000), global_step=1)\n",
    "writer.add_histogram('normal_centered', np.random.normal(0, 2, 1000), global_step=50)\n",
    "writer.add_histogram('normal_centered', np.random.normal(0, 3, 1000), global_step=100)\n"
   ]
  },
  {
   "cell_type": "markdown",
   "metadata": {},
   "source": [
    "# 嵌入向量 embedding "
   ]
  },
  {
   "cell_type": "code",
   "execution_count": null,
   "metadata": {},
   "outputs": [],
   "source": [
    "from tensorboardX import SummaryWriter\n",
    "import torchvision\n",
    "\n",
    "writer = SummaryWriter('runs/embedding_example')\n",
    "mnist = torchvision.datasets.MNIST('mnist', download=True)\n",
    "writer.add_embedding(\n",
    "    mnist.train_data.reshape((-1, 28 * 28))[:100,:],\n",
    "    metadata=mnist.train_labels[:100],\n",
    "    label_img = mnist.train_data[:100,:,:].reshape((-1, 1, 28, 28)).float() / 255,\n",
    "    global_step=0\n",
    ")\n"
   ]
  }
 ],
 "metadata": {
  "kernelspec": {
   "display_name": "Python 3.8.5 ('pytorch')",
   "language": "python",
   "name": "python3"
  },
  "language_info": {
   "codemirror_mode": {
    "name": "ipython",
    "version": 3
   },
   "file_extension": ".py",
   "mimetype": "text/x-python",
   "name": "python",
   "nbconvert_exporter": "python",
   "pygments_lexer": "ipython3",
   "version": "3.8.5"
  },
  "orig_nbformat": 2,
  "vscode": {
   "interpreter": {
    "hash": "5b5292cc5f82d8561d05c044f8ed41e8f78352f5ad17a4513f2686858f295381"
   }
  }
 },
 "nbformat": 4,
 "nbformat_minor": 2
}
