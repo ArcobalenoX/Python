{
 "cells": [
  {
   "cell_type": "code",
   "execution_count": 8,
   "metadata": {},
   "outputs": [],
   "source": [
    "import os\n",
    "import torch\n",
    "import torch.nn as nn\n",
    "import math\n",
    "import pickle\n",
    "from PIL import Image\n",
    "import cv2\n",
    "import matplotlib.pyplot as plt\n",
    "from torchvision.utils import save_image\n",
    "from torchvision.transforms import ToTensor, ToPILImage\n",
    "import numpy as np\n",
    "import pandas as pd \n",
    "from grad import sobel_demo\n",
    "from L0Smooth import L0Smoothing"
   ]
  },
  {
   "cell_type": "code",
   "execution_count": 34,
   "metadata": {},
   "outputs": [],
   "source": [
    "whurs_dir = r\"high-sobel-train-cross\"\n",
    "L0_dir = r\"smooth-high-train-l0.3-k5\"\n",
    "L0grad_dir = r\"smooth-high-train-l0.3-k5-grad\""
   ]
  },
  {
   "cell_type": "code",
   "execution_count": 35,
   "metadata": {},
   "outputs": [],
   "source": [
    "os.mkdir(L0_dir)\n",
    "for i in os.listdir(whurs_dir):\n",
    "    img_path = os.path.join(whurs_dir,i)\n",
    "    im = Image.open(img_path)\n",
    "    Im = np.array(im)\n",
    "    S = L0Smoothing(Im,0.3,5)\n",
    "    S = np.clip(S,0,1)\n",
    "    plt.imsave(os.path.join(L0_dir,i),S)"
   ]
  },
  {
   "cell_type": "code",
   "execution_count": 36,
   "metadata": {},
   "outputs": [],
   "source": [
    "os.mkdir(L0grad_dir)\n",
    "for i in os.listdir(L0_dir):\n",
    "    img_path = os.path.join(L0_dir,i)\n",
    "    im = cv2.imread(img_path)\n",
    "    Sgray = cv2.cvtColor(im,cv2.COLOR_BGR2GRAY)\n",
    "    Sgrad = sobel_demo(Sgray)\n",
    "    cv2.imwrite(os.path.join(L0grad_dir,i),Sgrad)"
   ]
  },
  {
   "cell_type": "code",
   "execution_count": 16,
   "metadata": {},
   "outputs": [],
   "source": [
    "def smooth_images(origin_dir,smooth_dir,grad_dir):\n",
    "    os.mkdir(smooth_dir)\n",
    "    os.mkdir(grad_dir)\n",
    "    for i in os.listdir(origin_dir):\n",
    "        im = Image.open(os.path.join(origin_dir,i))\n",
    "        imnp = np.array(im)\n",
    "        S = L0Smoothing(imnp,0.1,5)\n",
    "        S = np.clip(S,0,1)\n",
    "        plt.imsave(os.path.join(smooth_dir,i),S)\n",
    "    \n",
    "        im = cv2.imread(os.path.join(smooth_dir,i))\n",
    "        Sgray = cv2.cvtColor(im,cv2.COLOR_BGR2GRAY)\n",
    "        Sgrad = sobel_demo(Sgray)\n",
    "        cv2.imwrite(os.path.join(grad_dir,i),Sgrad)"
   ]
  },
  {
   "cell_type": "code",
   "execution_count": 13,
   "metadata": {},
   "outputs": [],
   "source": [
    "images_dir = r\"E:\\Code\\Python\\datas\\selfAID\\AID-train-cross-high\"\n",
    "L0_dir = r\"AID-train-cross-high-l0.1k5\"\n",
    "L0grad_dir = r\"AID-train-cross-high-l0.1k5-grad\"\n",
    "smooth_images(images_dir,L0_dir,L0grad_dir)\n"
   ]
  },
  {
   "cell_type": "code",
   "execution_count": 14,
   "metadata": {},
   "outputs": [],
   "source": [
    "images_dir = r\"E:\\Code\\Python\\datas\\selfAID\\AID-train-cross-mid\"\n",
    "L0_dir = r\"AID-train-cross-mid-l0.1k5\"\n",
    "L0grad_dir = r\"AID-train-cross-mid-l0.1k5-grad\"\n",
    "smooth_images(images_dir,L0_dir,L0grad_dir)\n"
   ]
  },
  {
   "cell_type": "code",
   "execution_count": 17,
   "metadata": {},
   "outputs": [],
   "source": [
    "images_dir = r\"E:\\Code\\Python\\datas\\selfAID\\AID-train-cross-low\"\n",
    "L0_dir = r\"AID-train-cross-low-l0.1k5\"\n",
    "L0grad_dir = r\"AID-train-cross-low-l0.1k5-grad\"\n",
    "smooth_images(images_dir,L0_dir,L0grad_dir)\n"
   ]
  }
 ],
 "metadata": {
  "kernelspec": {
   "display_name": "Python 3.8.5 ('pytorch')",
   "language": "python",
   "name": "python3"
  },
  "language_info": {
   "codemirror_mode": {
    "name": "ipython",
    "version": 3
   },
   "file_extension": ".py",
   "mimetype": "text/x-python",
   "name": "python",
   "nbconvert_exporter": "python",
   "pygments_lexer": "ipython3",
   "version": "3.9.15"
  },
  "orig_nbformat": 4,
  "vscode": {
   "interpreter": {
    "hash": "5b5292cc5f82d8561d05c044f8ed41e8f78352f5ad17a4513f2686858f295381"
   }
  }
 },
 "nbformat": 4,
 "nbformat_minor": 2
}
