{
 "cells": [
  {
   "cell_type": "code",
   "execution_count": 1,
   "metadata": {},
   "outputs": [],
   "source": [
    "import numpy as np\n",
    "import os\n",
    "from PIL import Image\n",
    "import matplotlib.pyplot as plt \n",
    "%matplotlib inline\n",
    "from torchvision.transforms import ToTensor, ToPILImage\n",
    "import glob\n",
    "from skimage.metrics import structural_similarity as skssim\n",
    "from skimage.metrics import peak_signal_noise_ratio as skpsnr\n"
   ]
  },
  {
   "cell_type": "markdown",
   "metadata": {},
   "source": [
    "# 图片读写"
   ]
  },
  {
   "cell_type": "code",
   "execution_count": null,
   "metadata": {},
   "outputs": [],
   "source": [
    "im=Image.open('picture/shen.jpg')\n",
    "print(im.format, im.size, im.mode)\n",
    "imarray=np.array(im)\n",
    "#img.show()\n",
    "plt.imshow(im)\n",
    "plt.axis('on') # 关掉坐标轴为 off\n",
    "plt.title('image') # 图像题目\n",
    "plt.show()\n",
    "print(imarray.shape)"
   ]
  },
  {
   "cell_type": "code",
   "execution_count": null,
   "metadata": {},
   "outputs": [],
   "source": [
    "img = Image.fromarray(imarray)\n",
    "plt.imshow(img)"
   ]
  },
  {
   "cell_type": "code",
   "execution_count": null,
   "metadata": {},
   "outputs": [],
   "source": []
  },
  {
   "cell_type": "markdown",
   "metadata": {},
   "source": [
    "# 图片裁剪"
   ]
  },
  {
   "cell_type": "code",
   "execution_count": null,
   "metadata": {},
   "outputs": [],
   "source": [
    "#手机截图剪切至1920*1080\n",
    "indir = 'pili'\n",
    "outdir = 'pl'\n",
    "st = 266\n",
    "for i in os.listdir(indir):\n",
    "    img = Image.open(os.path.join(indir,i))\n",
    "    imgnp = np.array(img)[:,st:st+1920,:]\n",
    "    imgs  = Image.fromarray(imgnp)\n",
    "    #imgs.save(os.path.join(outdir,i))"
   ]
  },
  {
   "cell_type": "markdown",
   "metadata": {},
   "source": [
    "# 图片切片"
   ]
  },
  {
   "cell_type": "code",
   "execution_count": null,
   "metadata": {},
   "outputs": [],
   "source": []
  },
  {
   "cell_type": "code",
   "execution_count": null,
   "metadata": {},
   "outputs": [],
   "source": [
    "in_dir = 'E:\\Code\\Python\\datas\\RS\\ITC_VD_Training_Testing_set\\Testing\\Image'\n",
    "out_dir = 'E:\\Code\\Python\\datas\\RS\\ITC_VD_Training_Testing_set\\Testing\\patch'\n",
    "#in_dir = 'test'\n",
    "#out_dir = 'test_p'"
   ]
  },
  {
   "cell_type": "code",
   "execution_count": null,
   "metadata": {},
   "outputs": [],
   "source": [
    "for imgi in os.listdir(in_dir):\n",
    "    img = Image.open(os.path.join(in_dir,imgi))\n",
    "    imgt = ToTensor()(img)\n",
    "    c,h,w = imgt.shape\n",
    "    for i in range(int(h/600)):\n",
    "        for j in range(int(w/600)):\n",
    "            x = imgt[:,i*600:(i+1)*600,j*600:(j+1)*600]\n",
    "            ToPILImage()(x).save(f'{out_dir}/{imgi[2:-4]}_{i}_{j}.png')"
   ]
  },
  {
   "cell_type": "code",
   "execution_count": null,
   "metadata": {},
   "outputs": [],
   "source": []
  },
  {
   "cell_type": "code",
   "execution_count": null,
   "metadata": {},
   "outputs": [],
   "source": []
  },
  {
   "cell_type": "markdown",
   "metadata": {},
   "source": [
    "# 批量修改倍数大小"
   ]
  },
  {
   "cell_type": "code",
   "execution_count": null,
   "metadata": {},
   "outputs": [],
   "source": [
    "def ResizeImage(indir, outdir, scale):\n",
    "    if not os.path.exists(outdir):\n",
    "        os.mkdir(outdir)\n",
    "    hrs = os.listdir(indir)\n",
    "    for hr in hrs:\n",
    "        img = Image.open(os.path.join(indir,hr))\n",
    "        lr = img.resize((int(img.size[0]/scale),int(img.size[1]/scale)),Image.BICUBIC) \n",
    "        outname = hr[:-4]+'x'+str(scale)+hr[-4:]\n",
    "        lr.save(os.path.join(outdir,outname))"
   ]
  },
  {
   "cell_type": "code",
   "execution_count": null,
   "metadata": {},
   "outputs": [],
   "source": [
    "ResizeImage(r'E:\\Code\\Python\\datas\\RS\\ITCVD_patch\\ITCVD_test_patch'r'E:\\Code\\Python\\datas\\RS\\ITCVD_patch\\ITCVD_test_patchx23,43"
   ]
  },
  {
   "cell_type": "code",
   "execution_count": null,
   "metadata": {},
   "outputs": [],
   "source": [
    "ResizeImage(r'DIV2K_valid_HR',r'DIV2K_valid_LRx30',30)"
   ]
  },
  {
   "cell_type": "markdown",
   "metadata": {},
   "source": [
    "# 单点像素值"
   ]
  },
  {
   "cell_type": "code",
   "execution_count": null,
   "metadata": {},
   "outputs": [],
   "source": [
    "print(img.getpixel((50,50)))"
   ]
  },
  {
   "cell_type": "markdown",
   "metadata": {},
   "source": [
    "# 区域提取"
   ]
  },
  {
   "cell_type": "code",
   "execution_count": null,
   "metadata": {},
   "outputs": [],
   "source": [
    "box = im.copy() #直接复制图像\n",
    "box = (50, 300, 600, 700)\n",
    "region = im.crop(box)\n",
    "plt.imshow(region)\n",
    "plt.imshow(region.resize((128,72),Image.LANCZOS))"
   ]
  },
  {
   "cell_type": "markdown",
   "metadata": {},
   "source": [
    "# 通道分离"
   ]
  },
  {
   "cell_type": "code",
   "execution_count": null,
   "metadata": {},
   "outputs": [],
   "source": [
    "img=im\n",
    "gray = img.convert('L')\n",
    "r,g,b = img.split()                          #注意：gray和r，g，b不一样，gray是三者通过公式算出来的\n",
    "img_merged = Image.merge('RGB', (r, g, b))\n",
    "\n",
    "#plt.figure(figsize=(10,5)) #设置窗口大小\n",
    "plt.suptitle('Multi_Image') # 图片名称\n",
    "\n",
    "plt.subplot(2,3,1), plt.title('imge:oringe')\n",
    "plt.imshow(img), plt.axis('off')\n",
    "\n",
    "plt.subplot(2,3,2), plt.title('gray:weicaise')\n",
    "plt.imshow(gray), plt.axis('off')\n",
    "\n",
    "plt.subplot(2,3,3), plt.title('gray:true')# 这里必须加 cmap='gray' ,否则尽管原图像是灰度图（下图1），但是显示的是伪彩色图像（下图2）（如果不加的话）\n",
    "plt.imshow(gray,cmap='gray'), plt.axis('off')\n",
    "\n",
    "plt.subplot(2,3,4), plt.title('r')\n",
    "plt.imshow(r,cmap='gray'), plt.axis('off')\n",
    "\n",
    "plt.subplot(2,3,5), plt.title('g')\n",
    "plt.imshow(g,cmap='gray'), plt.axis('off')\n",
    "\n",
    "plt.subplot(2,3,6), plt.title('b')\n",
    "plt.imshow(b,cmap='gray'), plt.axis('off')\n",
    "\n",
    "#plt.show()\n"
   ]
  },
  {
   "cell_type": "code",
   "execution_count": null,
   "metadata": {},
   "outputs": [],
   "source": []
  },
  {
   "cell_type": "markdown",
   "metadata": {},
   "source": [
    "# 计算图片SSIM"
   ]
  },
  {
   "cell_type": "code",
   "execution_count": 2,
   "metadata": {},
   "outputs": [],
   "source": [
    "from ssim import ssim"
   ]
  },
  {
   "cell_type": "code",
   "execution_count": null,
   "metadata": {},
   "outputs": [],
   "source": []
  },
  {
   "cell_type": "code",
   "execution_count": 2,
   "metadata": {},
   "outputs": [],
   "source": [
    "def image_self_psnr(img_path,scale=2):\n",
    "    hr = Image.open(img_path)\n",
    "    hrnp = np.array(hr)\n",
    "    h,w,c = hrnp.shape\n",
    "    lr = hr.resize((h//2,w//2))\n",
    "    lrnp = np.array(lr)\n",
    "    sr = lr.resize((h,w))\n",
    "    srnp = np.array(sr)\n",
    "    psnr = skpsnr(hrnp,srnp)\n",
    "\n",
    "\n",
    "    plt.subplot(2,2,1)\n",
    "    plt.imshow(hr)\n",
    "    plt.show()\n",
    "    return psnr"
   ]
  },
  {
   "cell_type": "code",
   "execution_count": 57,
   "metadata": {},
   "outputs": [],
   "source": [
    "def image_class_psnr(root):\n",
    "    total_psnr = 0\n",
    "    all_images = os.listdir(root)\n",
    "    for img in all_images:\n",
    "        imgpath = os.path.join(root,img)\n",
    "        psnr = image_self_psnr(imgpath)\n",
    "        #print(psnr)\n",
    "        total_psnr += psnr\n",
    "    return total_psnr/len(all_images)"
   ]
  },
  {
   "cell_type": "code",
   "execution_count": 56,
   "metadata": {},
   "outputs": [
    {
     "name": "stdout",
     "output_type": "stream",
     "text": [
      "32.08768509688502\n",
      "30.016250966322637\n",
      "34.056229496219636\n",
      "32.70773107857282\n",
      "34.10794676439004\n",
      "39.393495919978854\n",
      "30.144345933675073\n",
      "29.46089294403796\n",
      "31.702944431634368\n",
      "29.139573547368386\n"
     ]
    },
    {
     "data": {
      "text/plain": [
       "32.281709617908476"
      ]
     },
     "execution_count": 56,
     "metadata": {},
     "output_type": "execute_result"
    }
   ],
   "source": [
    "image_class_psnr(r\"WHURS19-test\\Airport\")"
   ]
  },
  {
   "cell_type": "code",
   "execution_count": 58,
   "metadata": {},
   "outputs": [
    {
     "data": {
      "text/plain": [
       "46.139038395649315"
      ]
     },
     "execution_count": 58,
     "metadata": {},
     "output_type": "execute_result"
    }
   ],
   "source": [
    "image_class_psnr(r\"WHURS19-test\\Beach\")"
   ]
  },
  {
   "cell_type": "code",
   "execution_count": null,
   "metadata": {},
   "outputs": [
    {
     "ename": "Error",
     "evalue": "Session cannot generate requests",
     "output_type": "error",
     "traceback": [
      "Error: Session cannot generate requests",
      "at w.executeCodeCell (c:\\Users\\arcobaleno\\.vscode\\extensions\\ms-toolsai.jupyter-2021.9.1001312534\\out\\client\\extension.js:52:301180)",
      "at w.execute (c:\\Users\\arcobaleno\\.vscode\\extensions\\ms-toolsai.jupyter-2021.9.1001312534\\out\\client\\extension.js:52:300551)",
      "at w.start (c:\\Users\\arcobaleno\\.vscode\\extensions\\ms-toolsai.jupyter-2021.9.1001312534\\out\\client\\extension.js:52:296215)",
      "at runMicrotasks (<anonymous>)",
      "at processTicksAndRejections (internal/process/task_queues.js:93:5)",
      "at t.CellExecutionQueue.executeQueuedCells (c:\\Users\\arcobaleno\\.vscode\\extensions\\ms-toolsai.jupyter-2021.9.1001312534\\out\\client\\extension.js:52:310950)",
      "at t.CellExecutionQueue.start (c:\\Users\\arcobaleno\\.vscode\\extensions\\ms-toolsai.jupyter-2021.9.1001312534\\out\\client\\extension.js:52:310490)"
     ]
    }
   ],
   "source": [
    "image_class_psnr(r\"WHURS19-test\\River\")"
   ]
  },
  {
   "cell_type": "code",
   "execution_count": null,
   "metadata": {},
   "outputs": [],
   "source": []
  },
  {
   "cell_type": "code",
   "execution_count": null,
   "metadata": {},
   "outputs": [],
   "source": []
  },
  {
   "cell_type": "code",
   "execution_count": null,
   "metadata": {},
   "outputs": [
    {
     "ename": "Error",
     "evalue": "Session cannot generate requests",
     "output_type": "error",
     "traceback": [
      "Error: Session cannot generate requests",
      "at w.executeCodeCell (c:\\Users\\arcobaleno\\.vscode\\extensions\\ms-toolsai.jupyter-2021.9.1001312534\\out\\client\\extension.js:52:301180)",
      "at w.execute (c:\\Users\\arcobaleno\\.vscode\\extensions\\ms-toolsai.jupyter-2021.9.1001312534\\out\\client\\extension.js:52:300551)",
      "at w.start (c:\\Users\\arcobaleno\\.vscode\\extensions\\ms-toolsai.jupyter-2021.9.1001312534\\out\\client\\extension.js:52:296215)",
      "at runMicrotasks (<anonymous>)",
      "at processTicksAndRejections (internal/process/task_queues.js:93:5)",
      "at t.CellExecutionQueue.executeQueuedCells (c:\\Users\\arcobaleno\\.vscode\\extensions\\ms-toolsai.jupyter-2021.9.1001312534\\out\\client\\extension.js:52:310950)",
      "at t.CellExecutionQueue.start (c:\\Users\\arcobaleno\\.vscode\\extensions\\ms-toolsai.jupyter-2021.9.1001312534\\out\\client\\extension.js:52:310490)"
     ]
    }
   ],
   "source": [
    "image_self_psnr(r\"WHURS19-test\\Beach\\beach_41.jpg\")"
   ]
  },
  {
   "cell_type": "code",
   "execution_count": null,
   "metadata": {},
   "outputs": [
    {
     "ename": "Error",
     "evalue": "Session cannot generate requests",
     "output_type": "error",
     "traceback": [
      "Error: Session cannot generate requests",
      "at w.executeCodeCell (c:\\Users\\arcobaleno\\.vscode\\extensions\\ms-toolsai.jupyter-2021.9.1001312534\\out\\client\\extension.js:52:301180)",
      "at w.execute (c:\\Users\\arcobaleno\\.vscode\\extensions\\ms-toolsai.jupyter-2021.9.1001312534\\out\\client\\extension.js:52:300551)",
      "at w.start (c:\\Users\\arcobaleno\\.vscode\\extensions\\ms-toolsai.jupyter-2021.9.1001312534\\out\\client\\extension.js:52:296215)",
      "at runMicrotasks (<anonymous>)",
      "at processTicksAndRejections (internal/process/task_queues.js:93:5)",
      "at t.CellExecutionQueue.executeQueuedCells (c:\\Users\\arcobaleno\\.vscode\\extensions\\ms-toolsai.jupyter-2021.9.1001312534\\out\\client\\extension.js:52:310950)",
      "at t.CellExecutionQueue.start (c:\\Users\\arcobaleno\\.vscode\\extensions\\ms-toolsai.jupyter-2021.9.1001312534\\out\\client\\extension.js:52:310490)"
     ]
    }
   ],
   "source": [
    "hr = Image.open(r\"WHURS19-test\\Beach\\beach_41.jpg\")\n",
    "plt.subplot(2,2,1)\n",
    "plt.imshow(hr)\n",
    "#plt.show()"
   ]
  },
  {
   "cell_type": "code",
   "execution_count": null,
   "metadata": {},
   "outputs": [],
   "source": []
  },
  {
   "cell_type": "code",
   "execution_count": null,
   "metadata": {},
   "outputs": [],
   "source": []
  },
  {
   "cell_type": "code",
   "execution_count": 6,
   "metadata": {},
   "outputs": [],
   "source": [
    "def get_img_by_name(classname):\n",
    "    dict = {}\n",
    "    for imgpath in glob.glob(f\"WHURS19-test/{classname}*\"):\n",
    "        img = Image.open(imgpath)\n",
    "        dict[os.path.basename(imgpath)] = ToTensor()(img).unsqueeze(0)\n",
    "    return dict"
   ]
  },
  {
   "cell_type": "code",
   "execution_count": 10,
   "metadata": {},
   "outputs": [
    {
     "ename": "PermissionError",
     "evalue": "[Errno 13] Permission denied: 'WHURS19-test\\\\Airport'",
     "output_type": "error",
     "traceback": [
      "\u001b[1;31m---------------------------------------------------------------------------\u001b[0m",
      "\u001b[1;31mPermissionError\u001b[0m                           Traceback (most recent call last)",
      "\u001b[1;32mC:\\Users\\ARCOBA~1\\AppData\\Local\\Temp/ipykernel_16432/794852733.py\u001b[0m in \u001b[0;36m<module>\u001b[1;34m\u001b[0m\n\u001b[1;32m----> 1\u001b[1;33m \u001b[0mairports\u001b[0m \u001b[1;33m=\u001b[0m \u001b[0mget_img_by_name\u001b[0m\u001b[1;33m(\u001b[0m\u001b[1;34m\"airport\"\u001b[0m\u001b[1;33m)\u001b[0m\u001b[1;33m\u001b[0m\u001b[1;33m\u001b[0m\u001b[0m\n\u001b[0m",
      "\u001b[1;32mC:\\Users\\ARCOBA~1\\AppData\\Local\\Temp/ipykernel_16432/3612680410.py\u001b[0m in \u001b[0;36mget_img_by_name\u001b[1;34m(classname)\u001b[0m\n\u001b[0;32m      2\u001b[0m     \u001b[0mdict\u001b[0m \u001b[1;33m=\u001b[0m \u001b[1;33m{\u001b[0m\u001b[1;33m}\u001b[0m\u001b[1;33m\u001b[0m\u001b[1;33m\u001b[0m\u001b[0m\n\u001b[0;32m      3\u001b[0m     \u001b[1;32mfor\u001b[0m \u001b[0mimgpath\u001b[0m \u001b[1;32min\u001b[0m \u001b[0mglob\u001b[0m\u001b[1;33m.\u001b[0m\u001b[0mglob\u001b[0m\u001b[1;33m(\u001b[0m\u001b[1;34mf\"WHURS19-test/{classname}*\"\u001b[0m\u001b[1;33m)\u001b[0m\u001b[1;33m:\u001b[0m\u001b[1;33m\u001b[0m\u001b[1;33m\u001b[0m\u001b[0m\n\u001b[1;32m----> 4\u001b[1;33m         \u001b[0mimg\u001b[0m \u001b[1;33m=\u001b[0m \u001b[0mImage\u001b[0m\u001b[1;33m.\u001b[0m\u001b[0mopen\u001b[0m\u001b[1;33m(\u001b[0m\u001b[0mimgpath\u001b[0m\u001b[1;33m)\u001b[0m\u001b[1;33m\u001b[0m\u001b[1;33m\u001b[0m\u001b[0m\n\u001b[0m\u001b[0;32m      5\u001b[0m         \u001b[0mdict\u001b[0m\u001b[1;33m[\u001b[0m\u001b[0mos\u001b[0m\u001b[1;33m.\u001b[0m\u001b[0mpath\u001b[0m\u001b[1;33m.\u001b[0m\u001b[0mbasename\u001b[0m\u001b[1;33m(\u001b[0m\u001b[0mimgpath\u001b[0m\u001b[1;33m)\u001b[0m\u001b[1;33m]\u001b[0m \u001b[1;33m=\u001b[0m \u001b[0mToTensor\u001b[0m\u001b[1;33m(\u001b[0m\u001b[1;33m)\u001b[0m\u001b[1;33m(\u001b[0m\u001b[0mimg\u001b[0m\u001b[1;33m)\u001b[0m\u001b[1;33m.\u001b[0m\u001b[0munsqueeze\u001b[0m\u001b[1;33m(\u001b[0m\u001b[1;36m0\u001b[0m\u001b[1;33m)\u001b[0m\u001b[1;33m\u001b[0m\u001b[1;33m\u001b[0m\u001b[0m\n\u001b[0;32m      6\u001b[0m     \u001b[1;32mreturn\u001b[0m \u001b[0mdict\u001b[0m\u001b[1;33m\u001b[0m\u001b[1;33m\u001b[0m\u001b[0m\n",
      "\u001b[1;32mD:\\Miniconda3\\envs\\pytorch\\lib\\site-packages\\PIL\\Image.py\u001b[0m in \u001b[0;36mopen\u001b[1;34m(fp, mode, formats)\u001b[0m\n\u001b[0;32m   2889\u001b[0m \u001b[1;33m\u001b[0m\u001b[0m\n\u001b[0;32m   2890\u001b[0m     \u001b[1;32mif\u001b[0m \u001b[0mfilename\u001b[0m\u001b[1;33m:\u001b[0m\u001b[1;33m\u001b[0m\u001b[1;33m\u001b[0m\u001b[0m\n\u001b[1;32m-> 2891\u001b[1;33m         \u001b[0mfp\u001b[0m \u001b[1;33m=\u001b[0m \u001b[0mbuiltins\u001b[0m\u001b[1;33m.\u001b[0m\u001b[0mopen\u001b[0m\u001b[1;33m(\u001b[0m\u001b[0mfilename\u001b[0m\u001b[1;33m,\u001b[0m \u001b[1;34m\"rb\"\u001b[0m\u001b[1;33m)\u001b[0m\u001b[1;33m\u001b[0m\u001b[1;33m\u001b[0m\u001b[0m\n\u001b[0m\u001b[0;32m   2892\u001b[0m         \u001b[0mexclusive_fp\u001b[0m \u001b[1;33m=\u001b[0m \u001b[1;32mTrue\u001b[0m\u001b[1;33m\u001b[0m\u001b[1;33m\u001b[0m\u001b[0m\n\u001b[0;32m   2893\u001b[0m \u001b[1;33m\u001b[0m\u001b[0m\n",
      "\u001b[1;31mPermissionError\u001b[0m: [Errno 13] Permission denied: 'WHURS19-test\\\\Airport'"
     ]
    }
   ],
   "source": [
    "airports = get_img_by_name(\"airport\")"
   ]
  },
  {
   "cell_type": "code",
   "execution_count": null,
   "metadata": {},
   "outputs": [
    {
     "ename": "Error",
     "evalue": "Session cannot generate requests",
     "output_type": "error",
     "traceback": [
      "Error: Session cannot generate requests",
      "at w.executeCodeCell (c:\\Users\\arcobaleno\\.vscode\\extensions\\ms-toolsai.jupyter-2021.9.1001312534\\out\\client\\extension.js:52:301180)",
      "at w.execute (c:\\Users\\arcobaleno\\.vscode\\extensions\\ms-toolsai.jupyter-2021.9.1001312534\\out\\client\\extension.js:52:300551)",
      "at w.start (c:\\Users\\arcobaleno\\.vscode\\extensions\\ms-toolsai.jupyter-2021.9.1001312534\\out\\client\\extension.js:52:296215)",
      "at runMicrotasks (<anonymous>)",
      "at processTicksAndRejections (internal/process/task_queues.js:93:5)",
      "at t.CellExecutionQueue.executeQueuedCells (c:\\Users\\arcobaleno\\.vscode\\extensions\\ms-toolsai.jupyter-2021.9.1001312534\\out\\client\\extension.js:52:310950)",
      "at t.CellExecutionQueue.start (c:\\Users\\arcobaleno\\.vscode\\extensions\\ms-toolsai.jupyter-2021.9.1001312534\\out\\client\\extension.js:52:310490)"
     ]
    }
   ],
   "source": [
    "beachs = get_img_by_name(\"beach\")"
   ]
  },
  {
   "cell_type": "code",
   "execution_count": null,
   "metadata": {},
   "outputs": [],
   "source": [
    " bridges = get_img_by_name(\"bridge\")"
   ]
  },
  {
   "cell_type": "code",
   "execution_count": null,
   "metadata": {},
   "outputs": [],
   "source": [
    "industrials = get_img_by_name(\"industrial\")"
   ]
  },
  {
   "cell_type": "code",
   "execution_count": null,
   "metadata": {},
   "outputs": [],
   "source": [
    "def compare(ca,cb): \n",
    "    for a in ca:\n",
    "        for b in cb:\n",
    "            calssim = ssim(ca[a], cb[b])\n",
    "            print(f\"{a} vs {b} ssim : {calssim}\")\n",
    "    print(\"\")"
   ]
  },
  {
   "cell_type": "code",
   "execution_count": null,
   "metadata": {},
   "outputs": [],
   "source": [
    "compare(airports,beachs)"
   ]
  },
  {
   "cell_type": "code",
   "execution_count": null,
   "metadata": {},
   "outputs": [],
   "source": [
    "ssim(beachs['beach_41.jpg'],airports['airport_41.jpg'])"
   ]
  },
  {
   "cell_type": "code",
   "execution_count": null,
   "metadata": {},
   "outputs": [],
   "source": [
    "compare(airports,bridges)"
   ]
  },
  {
   "cell_type": "code",
   "execution_count": null,
   "metadata": {},
   "outputs": [],
   "source": [
    " \n",
    "def get_thumbnail(image, size=(1200, 750), greyscale=False):\n",
    "    image = image.resize(size, Image.ANTIALIAS)\n",
    "    if greyscale:\n",
    "        image = image.convert('L')\n",
    "    return image\n",
    " \n",
    " \n",
    "def image_similarity_vectors_via_numpy(image1, image2):\n",
    "    image1 = get_thumbnail(image1)\n",
    "    image2 = get_thumbnail(image2)\n",
    "    images = [image1, image2]\n",
    "    vectors = []\n",
    "    norms = []\n",
    "    for image in images:\n",
    "        vector = []\n",
    "        for pixel_tuple in image.getdata():\n",
    "            vector.append(average(pixel_tuple))\n",
    "        vectors.append(vector)\n",
    "        norms.append(linalg.norm(vector, 2))\n",
    "    a, b = vectors\n",
    "    a_norm, b_norm = norms\n",
    "    res = dot(a / a_norm, b / b_norm)\n",
    "    return res\n",
    "\n"
   ]
  },
  {
   "cell_type": "code",
   "execution_count": null,
   "metadata": {},
   "outputs": [],
   "source": [
    "from numpy import average, linalg, dot"
   ]
  },
  {
   "cell_type": "code",
   "execution_count": null,
   "metadata": {},
   "outputs": [],
   "source": [
    "image1 = Image.open(r'WHURS19-test\\Desert_41.jpg')\n",
    "image2 = Image.open(r'WHURS19-test\\river_41.jpg')\n",
    "cosin = image_similarity_vectors_via_numpy(image1, image2)"
   ]
  },
  {
   "cell_type": "code",
   "execution_count": null,
   "metadata": {},
   "outputs": [],
   "source": [
    "print(cosin)"
   ]
  },
  {
   "cell_type": "code",
   "execution_count": null,
   "metadata": {},
   "outputs": [],
   "source": []
  }
 ],
 "metadata": {
  "interpreter": {
   "hash": "5b5292cc5f82d8561d05c044f8ed41e8f78352f5ad17a4513f2686858f295381"
  },
  "kernelspec": {
   "display_name": "Python 3.8.5 ('pytorch')",
   "language": "python",
   "name": "python3"
  },
  "language_info": {
   "codemirror_mode": {
    "name": "ipython",
    "version": 3
   },
   "file_extension": ".py",
   "mimetype": "text/x-python",
   "name": "python",
   "nbconvert_exporter": "python",
   "pygments_lexer": "ipython3",
   "version": "3.8.5"
  }
 },
 "nbformat": 4,
 "nbformat_minor": 2
}
