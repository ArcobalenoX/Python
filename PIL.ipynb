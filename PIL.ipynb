{
 "cells": [
  {
   "cell_type": "code",
   "execution_count": 1,
   "metadata": {},
   "outputs": [],
   "source": [
    "import numpy as np\n",
    "import os\n",
    "import PIL\n",
    "from PIL import Image,ImageGrab\n",
    "import matplotlib.pyplot as plt \n",
    "%matplotlib inline\n"
   ]
  },
  {
   "cell_type": "markdown",
   "metadata": {},
   "source": [
    "# 图片读写"
   ]
  },
  {
   "cell_type": "code",
   "execution_count": null,
   "metadata": {},
   "outputs": [],
   "source": [
    "im=Image.open('picture/shen.jpg')\n",
    "print(im.format, im.size, im.mode)\n",
    "imarray=np.array(im)\n",
    "#img.show()\n",
    "plt.imshow(im)\n",
    "plt.axis('on') # 关掉坐标轴为 off\n",
    "plt.title('image') # 图像题目\n",
    "plt.show()\n",
    "print(imarray.shape)"
   ]
  },
  {
   "cell_type": "code",
   "execution_count": null,
   "metadata": {},
   "outputs": [],
   "source": [
    "img = Image.fromarray(imarray)\n",
    "plt.imshow(img)"
   ]
  },
  {
   "cell_type": "code",
   "execution_count": null,
   "metadata": {},
   "outputs": [],
   "source": []
  },
  {
   "source": [
    "# 图片裁剪"
   ],
   "cell_type": "markdown",
   "metadata": {}
  },
  {
   "cell_type": "code",
   "execution_count": null,
   "metadata": {},
   "outputs": [],
   "source": [
    "#手机截图剪切至1920*1080\n",
    "indir = 'pili'\n",
    "outdir = 'pl'\n",
    "st = 266\n",
    "for i in os.listdir(indir):\n",
    "    img = Image.open(os.path.join(dirs,i))\n",
    "    imgnp = np.array(img)[:,st:st+1920,:]\n",
    "    imgs  = Image.fromarray(imgnp)\n",
    "    #imgs.save(os.path.join(outdir,i))"
   ]
  },
  {
   "cell_type": "markdown",
   "metadata": {},
   "source": []
  },
  {
   "cell_type": "code",
   "execution_count": null,
   "metadata": {},
   "outputs": [],
   "source": []
  },
  {
   "cell_type": "markdown",
   "metadata": {},
   "source": [
    "# 批量修改倍数大小"
   ]
  },
  {
   "cell_type": "code",
   "execution_count": 2,
   "metadata": {},
   "outputs": [],
   "source": [
    "def ResizeImage(indir, outdir, scale):\n",
    "    if not os.path.exists(outdir):\n",
    "        os.mkdir(outdir)\n",
    "    hrs = os.listdir(indir)\n",
    "    for hr in hrs:\n",
    "        img = Image.open(os.path.join(indir,hr))\n",
    "        lr = img.resize((int(img.size[0]/scale),int(img.size[1]/scale)),Image.BICUBIC) \n",
    "        outname = hr[:-4]+'x'+str(scale)+hr[-4:]\n",
    "        lr.save(os.path.join(outdir,outname))"
   ]
  },
  {
   "cell_type": "code",
   "execution_count": null,
   "metadata": {},
   "outputs": [],
   "source": [
    "ResizeImage(r'Airport',r'Airportx4',4)"
   ]
  },
  {
   "cell_type": "code",
   "execution_count": 3,
   "metadata": {},
   "outputs": [],
   "source": [
    "ResizeImage(r'DIV2K_valid_HR',r'DIV2K_valid_LRx30',30)"
   ]
  },
  {
   "cell_type": "markdown",
   "metadata": {},
   "source": [
    "# 单点像素值"
   ]
  },
  {
   "cell_type": "code",
   "execution_count": null,
   "metadata": {},
   "outputs": [],
   "source": [
    "print(img.getpixel((50,50)))"
   ]
  },
  {
   "cell_type": "markdown",
   "metadata": {},
   "source": [
    "# 区域提取"
   ]
  },
  {
   "cell_type": "code",
   "execution_count": null,
   "metadata": {},
   "outputs": [],
   "source": [
    "box = im.copy() #直接复制图像\n",
    "box = (50, 300, 600, 700)\n",
    "region = im.crop(box)\n",
    "plt.imshow(region)\n",
    "plt.imshow(region.resize((128,72),Image.LANCZOS))"
   ]
  },
  {
   "cell_type": "code",
   "execution_count": null,
   "metadata": {},
   "outputs": [],
   "source": []
  },
  {
   "source": [
    "# 通道分离"
   ],
   "cell_type": "markdown",
   "metadata": {}
  },
  {
   "cell_type": "code",
   "execution_count": null,
   "metadata": {},
   "outputs": [],
   "source": [
    "img=im\n",
    "gray = img.convert('L')\n",
    "r,g,b = img.split()                          #注意：gray和r，g，b不一样，gray是三者通过公式算出来的\n",
    "img_merged = Image.merge('RGB', (r, g, b))\n",
    "\n",
    "#plt.figure(figsize=(10,5)) #设置窗口大小\n",
    "plt.suptitle('Multi_Image') # 图片名称\n",
    "\n",
    "plt.subplot(2,3,1), plt.title('imge:oringe')\n",
    "plt.imshow(img), plt.axis('off')\n",
    "\n",
    "plt.subplot(2,3,2), plt.title('gray:weicaise')\n",
    "plt.imshow(gray), plt.axis('off')\n",
    "\n",
    "plt.subplot(2,3,3), plt.title('gray:true')# 这里必须加 cmap='gray' ,否则尽管原图像是灰度图（下图1），但是显示的是伪彩色图像（下图2）（如果不加的话）\n",
    "plt.imshow(gray,cmap='gray'), plt.axis('off')\n",
    "\n",
    "plt.subplot(2,3,4), plt.title('r')\n",
    "plt.imshow(r,cmap='gray'), plt.axis('off')\n",
    "\n",
    "plt.subplot(2,3,5), plt.title('g')\n",
    "plt.imshow(g,cmap='gray'), plt.axis('off')\n",
    "\n",
    "plt.subplot(2,3,6), plt.title('b')\n",
    "plt.imshow(b,cmap='gray'), plt.axis('off')\n",
    "\n",
    "#plt.show()\n"
   ]
  }
 ],
 "metadata": {
  "kernelspec": {
   "name": "python385jvsc74a57bd0c2c0bba31bef276960c92166e4dc324d20d321691368e020af08fea8957d0a65",
   "display_name": "Python 3.8.5 64-bit ('pytorch': conda)"
  },
  "language_info": {
   "codemirror_mode": {
    "name": "ipython",
    "version": 3
   },
   "file_extension": ".py",
   "mimetype": "text/x-python",
   "name": "python",
   "nbconvert_exporter": "python",
   "pygments_lexer": "ipython3",
   "version": "3.8.5-final"
  }
 },
 "nbformat": 4,
 "nbformat_minor": 2
}