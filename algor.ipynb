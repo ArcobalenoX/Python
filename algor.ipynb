{
 "cells": [
  {
   "cell_type": "markdown",
   "metadata": {},
   "source": [
    "### 求不大于N的所有整除7或含有7的正整数的平方和"
   ]
  },
  {
   "cell_type": "code",
   "execution_count": 47,
   "metadata": {},
   "outputs": [
    {
     "name": "stdout",
     "output_type": "stream",
     "text": [
      "your number:100\n",
      "214547\n"
     ]
    }
   ],
   "source": [
    "n=input(\"your number:\")\n",
    "sum=0\n",
    "m=int(n)\n",
    "for i in range(1,m+1):\n",
    "    if(i%7==0):continue\n",
    "    elif '7' in str(i):continue \n",
    "    #print(i)    \n",
    "    sum=sum+i*i\n",
    "print(sum)"
   ]
  },
  {
   "cell_type": "markdown",
   "metadata": {},
   "source": [
    "### 输入一串数，将其最小的放在第一位，次小的放在最后一位，再小的放在第二位，再再小的放在倒数第二位，以此类推。"
   ]
  },
  {
   "cell_type": "code",
   "execution_count": 7,
   "metadata": {},
   "outputs": [],
   "source": [
    "import random"
   ]
  },
  {
   "cell_type": "code",
   "execution_count": 63,
   "metadata": {},
   "outputs": [
    {
     "name": "stdout",
     "output_type": "stream",
     "text": [
      "多少个数:5\n",
      "原来的：[23, 94, 74, 99, 83]\n",
      "排序后的：[23, 74, 83, 94, 99]\n",
      "最后的[23, 83, 99, 94, 74]\n"
     ]
    }
   ],
   "source": [
    "arr=[]\n",
    "n=input(\"多少个数:\")\n",
    "for i in range(0,int(n)):\n",
    "    arr.append(random.randint(1,100))\n",
    "print(\"原来的：\"+str(arr)) \n",
    "arr.sort()\n",
    "print(\"排序后的：\"+str(arr))\n",
    "newarr=arr[::2]+arr[1::2][::-1]\n",
    "print(\"最后的\"+str(newarr))"
   ]
  },
  {
   "cell_type": "code",
   "execution_count": 23,
   "metadata": {},
   "outputs": [],
   "source": [
    "lis =[[[2,5,4,1],[3,4,1,2],[2,4,1,3]]]"
   ]
  },
  {
   "cell_type": "code",
   "execution_count": 4,
   "metadata": {},
   "outputs": [],
   "source": [
    "import numpy as np"
   ]
  },
  {
   "cell_type": "code",
   "execution_count": 29,
   "metadata": {},
   "outputs": [
    {
     "output_type": "execute_result",
     "data": {
      "text/plain": [
       "(array([2, 1, 4, 0, 3], dtype=int64), array([7, 5, 3, 2, 1]))"
      ]
     },
     "metadata": {},
     "execution_count": 29
    }
   ],
   "source": [
    "array=[2,5,7,1,3]\n",
    "arg = np.argsort(array)[::-1]\n",
    "arr = np.sort(array)[::-1]\n",
    "arg,arr\n"
   ]
  },
  {
   "cell_type": "code",
   "execution_count": 32,
   "metadata": {},
   "outputs": [
    {
     "output_type": "execute_result",
     "data": {
      "text/plain": [
       "array([[[3, 0, 2, 1],\n",
       "        [2, 3, 0, 1],\n",
       "        [2, 0, 3, 1]]], dtype=int64)"
      ]
     },
     "metadata": {},
     "execution_count": 32
    }
   ],
   "source": [
    "arg = np.argsort(lis)\n",
    "arg"
   ]
  },
  {
   "cell_type": "code",
   "execution_count": 30,
   "metadata": {},
   "outputs": [
    {
     "output_type": "execute_result",
     "data": {
      "text/plain": [
       "[1, 2, 3, 5, 7]"
      ]
     },
     "metadata": {},
     "execution_count": 30
    }
   ],
   "source": [
    "sorted(array)"
   ]
  },
  {
   "source": [
    "# 汉诺塔"
   ],
   "cell_type": "markdown",
   "metadata": {}
  },
  {
   "cell_type": "code",
   "execution_count": null,
   "metadata": {},
   "outputs": [],
   "source": [
    "def hanoi(n, a, b, c):\n",
    "    if n == 1:\n",
    "        print(a, '-->', c)\n",
    "    else:\n",
    "        hanoi(n - 1, a, c, b)\n",
    "        print(a, '-->', c)\n",
    "        hanoi(n - 1, b, a, c)\n",
    "hanoi(5,'a','b','c')\n"
   ]
  }
 ],
 "metadata": {
  "kernelspec": {
   "name": "python3",
   "display_name": "Python 3.8.5 64-bit ('pytorch': conda)"
  },
  "language_info": {
   "codemirror_mode": {
    "name": "ipython",
    "version": 3
   },
   "file_extension": ".py",
   "mimetype": "text/x-python",
   "name": "python",
   "nbconvert_exporter": "python",
   "pygments_lexer": "ipython3",
   "version": "3.8.5"
  },
  "interpreter": {
   "hash": "c2c0bba31bef276960c92166e4dc324d20d321691368e020af08fea8957d0a65"
  }
 },
 "nbformat": 4,
 "nbformat_minor": 2
}