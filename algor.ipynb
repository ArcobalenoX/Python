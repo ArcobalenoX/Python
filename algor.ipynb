{
 "cells": [
  {
   "cell_type": "markdown",
   "metadata": {},
   "source": [
    "## lambda 表达式"
   ]
  },
  {
   "cell_type": "code",
   "execution_count": null,
   "metadata": {},
   "outputs": [],
   "source": [
    "plus = lambda x,y:x+y\n",
    "minus = lambda x,y:x*y"
   ]
  },
  {
   "cell_type": "code",
   "execution_count": null,
   "metadata": {},
   "outputs": [],
   "source": [
    "plus(3,5)"
   ]
  },
  {
   "cell_type": "code",
   "execution_count": null,
   "metadata": {},
   "outputs": [],
   "source": [
    "minus(3,5)"
   ]
  },
  {
   "cell_type": "markdown",
   "metadata": {},
   "source": [
    "### 求不大于N的所有整除7或含有7的正整数的平方和"
   ]
  },
  {
   "cell_type": "code",
   "execution_count": null,
   "metadata": {},
   "outputs": [],
   "source": [
    "n=input(\"your number:\")\n",
    "sum=0\n",
    "m=int(n)\n",
    "for i in range(1,m+1):\n",
    "    if(i%7==0):continue\n",
    "    elif '7' in str(i):continue \n",
    "    #print(i)    \n",
    "    sum=sum+i*i\n",
    "print(sum)"
   ]
  },
  {
   "cell_type": "markdown",
   "metadata": {},
   "source": [
    "### 输入一串数，将其最小的放在第一位，次小的放在最后一位，再小的放在第二位，再再小的放在倒数第二位，以此类推。"
   ]
  },
  {
   "cell_type": "code",
   "execution_count": null,
   "metadata": {},
   "outputs": [],
   "source": []
  },
  {
   "cell_type": "code",
   "execution_count": null,
   "metadata": {},
   "outputs": [],
   "source": []
  },
  {
   "cell_type": "markdown",
   "metadata": {},
   "source": [
    "# 排序"
   ]
  },
  {
   "cell_type": "code",
   "execution_count": null,
   "metadata": {},
   "outputs": [],
   "source": [
    "import random"
   ]
  },
  {
   "cell_type": "code",
   "execution_count": null,
   "metadata": {},
   "outputs": [],
   "source": [
    "arr=[]\n",
    "n=input(\"多少个数:\")\n",
    "for i in range(0,int(n)):\n",
    "    arr.append(random.randint(1,100))\n",
    "print(\"原来的：\"+str(arr)) \n",
    "arr.sort()\n",
    "print(\"排序后的：\"+str(arr))\n",
    "newarr=arr[::2]+arr[1::2][::-1]\n",
    "print(\"最后的\"+str(newarr))"
   ]
  },
  {
   "cell_type": "code",
   "execution_count": null,
   "metadata": {},
   "outputs": [],
   "source": [
    "lis =[[[2,5,4,1],[3,4,1,2],[2,4,1,3]]]"
   ]
  },
  {
   "cell_type": "code",
   "execution_count": null,
   "metadata": {},
   "outputs": [],
   "source": []
  },
  {
   "cell_type": "code",
   "execution_count": 15,
   "metadata": {},
   "outputs": [],
   "source": [
    "import numpy as np"
   ]
  },
  {
   "cell_type": "code",
   "execution_count": 16,
   "metadata": {},
   "outputs": [
    {
     "data": {
      "text/plain": [
       "(array([2, 1, 4, 0, 3], dtype=int64), array([7, 5, 3, 2, 1]))"
      ]
     },
     "execution_count": 16,
     "metadata": {},
     "output_type": "execute_result"
    }
   ],
   "source": [
    "array=[2,5,7,1,3]\n",
    "arg = np.argsort(array)[::-1]\n",
    "arr = np.sort(array)[::-1]\n",
    "arg,arr\n"
   ]
  },
  {
   "cell_type": "code",
   "execution_count": null,
   "metadata": {},
   "outputs": [],
   "source": [
    "arg = np.argsort(lis)\n",
    "arg"
   ]
  },
  {
   "cell_type": "code",
   "execution_count": null,
   "metadata": {},
   "outputs": [],
   "source": [
    "sorted(array)"
   ]
  },
  {
   "cell_type": "code",
   "execution_count": 50,
   "metadata": {},
   "outputs": [
    {
     "data": {
      "text/plain": [
       "4"
      ]
     },
     "execution_count": 50,
     "metadata": {},
     "output_type": "execute_result"
    }
   ],
   "source": [
    "from random import randint"
   ]
  },
  {
   "cell_type": "code",
   "execution_count": 13,
   "metadata": {},
   "outputs": [],
   "source": [
    "def quicksort(data:list):\n",
    "    if len(data)<2:\n",
    "        return data #基线条件：为空或只含一个元素的\"有序\"数组\n",
    "    else:\n",
    "        base = data[0]  ##基准值 递归条件\n",
    "        left = [i for i in data[1:] if i<=base]  #所有小于基准值的元素 \n",
    "        right = [i for i in data[1:] if i>base]  #所有大于基准值的元素\n",
    "        return quicksort(left)+[base]+quicksort(right)"
   ]
  },
  {
   "cell_type": "code",
   "execution_count": 72,
   "metadata": {},
   "outputs": [],
   "source": [
    "def quicksort(data:list):\n",
    "    if len(data)<2:\n",
    "        return data\n",
    "    else:\n",
    "        pose = randint(0,len(data)-1)\n",
    "        base = data[pose]\n",
    "        print(f\"random choice base data[{pose}]={base}\")\n",
    "        left = []\n",
    "        right = []\n",
    "        for i in data[:pose]+data[pose+1:]:\n",
    "            if(i<=base):\n",
    "                left.append(i)\n",
    "                print(f\"left: {left}\")\n",
    "            else:\n",
    "                right.append(i)\n",
    "                print(f\"right: {right}\")\n",
    "        return quicksort(left)+[base]+quicksort(right)"
   ]
  },
  {
   "cell_type": "code",
   "execution_count": 82,
   "metadata": {},
   "outputs": [
    {
     "name": "stdout",
     "output_type": "stream",
     "text": [
      "[2, 5, 7, 1, 3]\n",
      "random choice base data[2]=7\n",
      "left: [2]\n",
      "left: [2, 5]\n",
      "left: [2, 5, 1]\n",
      "left: [2, 5, 1, 3]\n",
      "random choice base data[0]=2\n",
      "right: [5]\n",
      "left: [1]\n",
      "right: [5, 3]\n",
      "random choice base data[1]=3\n",
      "right: [5]\n",
      "[1, 2, 3, 5, 7]\n"
     ]
    }
   ],
   "source": [
    "array=[2,5,7,1,3]\n",
    "print(array)\n",
    "sortedarray = quicksort(array)\n",
    "print(sortedarray)"
   ]
  },
  {
   "cell_type": "code",
   "execution_count": null,
   "metadata": {},
   "outputs": [],
   "source": []
  },
  {
   "cell_type": "markdown",
   "metadata": {},
   "source": [
    "# 汉诺塔"
   ]
  },
  {
   "cell_type": "code",
   "execution_count": null,
   "metadata": {},
   "outputs": [],
   "source": [
    "def hanoi(n, a, b, c):\n",
    "    if n == 1:\n",
    "        print(a, '-->', c)\n",
    "    else:\n",
    "        hanoi(n - 1, a, c, b)\n",
    "        print(a, '-->', c)\n",
    "        hanoi(n - 1, b, a, c)\n",
    "hanoi(5,'a','b','c')\n"
   ]
  },
  {
   "cell_type": "markdown",
   "metadata": {},
   "source": [
    "# 递归求和"
   ]
  },
  {
   "cell_type": "code",
   "execution_count": 11,
   "metadata": {},
   "outputs": [],
   "source": [
    "def sum(a:list):\n",
    "    if len(a) == 1:\n",
    "        print(\"len(a) = 1\")\n",
    "        return a[0]\n",
    "    else:\n",
    "        print(f\"sum: {a[0]}+{a[1:]}\")\n",
    "        return a[0]+sum(a[1:])    "
   ]
  },
  {
   "cell_type": "code",
   "execution_count": 12,
   "metadata": {},
   "outputs": [
    {
     "name": "stdout",
     "output_type": "stream",
     "text": [
      "sum: 1+[2, 3, 4, 5, 6, 7, 8]\n",
      "sum: 2+[3, 4, 5, 6, 7, 8]\n",
      "sum: 3+[4, 5, 6, 7, 8]\n",
      "sum: 4+[5, 6, 7, 8]\n",
      "sum: 5+[6, 7, 8]\n",
      "sum: 6+[7, 8]\n",
      "sum: 7+[8]\n",
      "len(a) = 1\n"
     ]
    },
    {
     "data": {
      "text/plain": [
       "36"
      ]
     },
     "execution_count": 12,
     "metadata": {},
     "output_type": "execute_result"
    }
   ],
   "source": [
    "arr = [1,2,3,4,5,6,7,8]\n",
    "sum(arr)"
   ]
  },
  {
   "cell_type": "markdown",
   "metadata": {},
   "source": []
  },
  {
   "cell_type": "code",
   "execution_count": null,
   "metadata": {},
   "outputs": [],
   "source": []
  },
  {
   "cell_type": "code",
   "execution_count": null,
   "metadata": {},
   "outputs": [],
   "source": []
  }
 ],
 "metadata": {
  "interpreter": {
   "hash": "c2c0bba31bef276960c92166e4dc324d20d321691368e020af08fea8957d0a65"
  },
  "kernelspec": {
   "display_name": "Python 3.8.5 64-bit ('pytorch': conda)",
   "name": "python3"
  },
  "language_info": {
   "codemirror_mode": {
    "name": "ipython",
    "version": 3
   },
   "file_extension": ".py",
   "mimetype": "text/x-python",
   "name": "python",
   "nbconvert_exporter": "python",
   "pygments_lexer": "ipython3",
   "version": "3.8.5"
  }
 },
 "nbformat": 4,
 "nbformat_minor": 2
}
