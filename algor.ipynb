{
 "cells": [
  {
   "cell_type": "markdown",
   "metadata": {},
   "source": [
    "## lambda 表达式"
   ]
  },
  {
   "cell_type": "code",
   "execution_count": null,
   "metadata": {},
   "outputs": [],
   "source": [
    "plus = lambda x,y:x+y\n",
    "minus = lambda x,y:x*y"
   ]
  },
  {
   "cell_type": "code",
   "execution_count": null,
   "metadata": {},
   "outputs": [],
   "source": [
    "plus(3,5)"
   ]
  },
  {
   "cell_type": "code",
   "execution_count": null,
   "metadata": {},
   "outputs": [],
   "source": [
    "minus(3,5)"
   ]
  },
  {
   "cell_type": "markdown",
   "metadata": {},
   "source": [
    "### 求不大于N的所有整除7或含有7的正整数的平方和"
   ]
  },
  {
   "cell_type": "code",
   "execution_count": null,
   "metadata": {},
   "outputs": [],
   "source": [
    "n=input(\"your number:\")\n",
    "sum=0\n",
    "m=int(n)\n",
    "for i in range(1,m+1):\n",
    "    if(i%7==0):continue\n",
    "    elif '7' in str(i):continue \n",
    "    #print(i)    \n",
    "    sum=sum+i*i\n",
    "print(sum)"
   ]
  },
  {
   "cell_type": "markdown",
   "metadata": {},
   "source": [
    "### 输入一串数，将其最小的放在第一位，次小的放在最后一位，再小的放在第二位，再再小的放在倒数第二位，以此类推。"
   ]
  },
  {
   "cell_type": "code",
   "execution_count": null,
   "metadata": {},
   "outputs": [],
   "source": []
  },
  {
   "cell_type": "code",
   "execution_count": null,
   "metadata": {},
   "outputs": [],
   "source": [
    "arr = [ [ 0 for i in range(3)] for j in range(4)]"
   ]
  },
  {
   "cell_type": "markdown",
   "metadata": {},
   "source": [
    "# 排序"
   ]
  },
  {
   "cell_type": "code",
   "execution_count": null,
   "metadata": {},
   "outputs": [],
   "source": [
    "import random"
   ]
  },
  {
   "cell_type": "code",
   "execution_count": null,
   "metadata": {},
   "outputs": [],
   "source": [
    "arr=[]\n",
    "n=input(\"多少个数:\")\n",
    "for i in range(0,int(n)):\n",
    "    arr.append(random.randint(1,100))\n",
    "print(\"原来的：\"+str(arr)) \n",
    "arr.sort()\n",
    "print(\"排序后的：\"+str(arr))\n",
    "newarr=arr[::2]+arr[1::2][::-1]\n",
    "print(\"最后的\"+str(newarr))"
   ]
  },
  {
   "cell_type": "code",
   "execution_count": null,
   "metadata": {},
   "outputs": [],
   "source": [
    "lis =[[[2,5,4,1],[3,4,1,2],[2,4,1,3]]]"
   ]
  },
  {
   "cell_type": "code",
   "execution_count": null,
   "metadata": {},
   "outputs": [],
   "source": []
  },
  {
   "cell_type": "code",
   "execution_count": 15,
   "metadata": {},
   "outputs": [],
   "source": [
    "import numpy as np"
   ]
  },
  {
   "cell_type": "code",
   "execution_count": 16,
   "metadata": {},
   "outputs": [
    {
     "data": {
      "text/plain": [
       "(array([2, 1, 4, 0, 3], dtype=int64), array([7, 5, 3, 2, 1]))"
      ]
     },
     "execution_count": 16,
     "metadata": {},
     "output_type": "execute_result"
    }
   ],
   "source": [
    "array=[2,5,7,1,3]\n",
    "arg = np.argsort(array)[::-1]\n",
    "arr = np.sort(array)[::-1]\n",
    "arg,arr\n"
   ]
  },
  {
   "cell_type": "code",
   "execution_count": null,
   "metadata": {},
   "outputs": [],
   "source": [
    "arg = np.argsort(lis)\n",
    "arg"
   ]
  },
  {
   "cell_type": "code",
   "execution_count": null,
   "metadata": {},
   "outputs": [],
   "source": [
    "sorted(array)"
   ]
  },
  {
   "cell_type": "code",
   "execution_count": 50,
   "metadata": {},
   "outputs": [
    {
     "data": {
      "text/plain": [
       "4"
      ]
     },
     "execution_count": 50,
     "metadata": {},
     "output_type": "execute_result"
    }
   ],
   "source": [
    "from random import randint"
   ]
  },
  {
   "cell_type": "code",
   "execution_count": 13,
   "metadata": {},
   "outputs": [],
   "source": [
    "def quicksort(data:list):\n",
    "    if len(data)<2:\n",
    "        return data #基线条件：为空或只含一个元素的\"有序\"数组\n",
    "    else:\n",
    "        base = data[0]  ##基准值 递归条件\n",
    "        left = [i for i in data[1:] if i<=base]  #所有小于基准值的元素 \n",
    "        right = [i for i in data[1:] if i>base]  #所有大于基准值的元素\n",
    "        return quicksort(left)+[base]+quicksort(right)"
   ]
  },
  {
   "cell_type": "code",
   "execution_count": 72,
   "metadata": {},
   "outputs": [],
   "source": [
    "def quicksort(data:list):\n",
    "    if len(data)<2:\n",
    "        return data\n",
    "    else:\n",
    "        pose = randint(0,len(data)-1)\n",
    "        base = data[pose]\n",
    "        print(f\"random choice base data[{pose}]={base}\")\n",
    "        left = []\n",
    "        right = []\n",
    "        for i in data[:pose]+data[pose+1:]:\n",
    "            if(i<=base):\n",
    "                left.append(i)\n",
    "                print(f\"left: {left}\")\n",
    "            else:\n",
    "                right.append(i)\n",
    "                print(f\"right: {right}\")\n",
    "        return quicksort(left)+[base]+quicksort(right)"
   ]
  },
  {
   "cell_type": "code",
   "execution_count": 82,
   "metadata": {},
   "outputs": [
    {
     "name": "stdout",
     "output_type": "stream",
     "text": [
      "[2, 5, 7, 1, 3]\n",
      "random choice base data[2]=7\n",
      "left: [2]\n",
      "left: [2, 5]\n",
      "left: [2, 5, 1]\n",
      "left: [2, 5, 1, 3]\n",
      "random choice base data[0]=2\n",
      "right: [5]\n",
      "left: [1]\n",
      "right: [5, 3]\n",
      "random choice base data[1]=3\n",
      "right: [5]\n",
      "[1, 2, 3, 5, 7]\n"
     ]
    }
   ],
   "source": [
    "array=[2,5,7,1,3]\n",
    "print(array)\n",
    "sortedarray = quicksort(array)\n",
    "print(sortedarray)"
   ]
  },
  {
   "cell_type": "code",
   "execution_count": null,
   "metadata": {},
   "outputs": [],
   "source": []
  },
  {
   "cell_type": "markdown",
   "metadata": {},
   "source": [
    "# 汉诺塔"
   ]
  },
  {
   "cell_type": "code",
   "execution_count": null,
   "metadata": {},
   "outputs": [],
   "source": [
    "def hanoi(n, a, b, c):\n",
    "    if n == 1:\n",
    "        print(a, '-->', c)\n",
    "    else:\n",
    "        hanoi(n - 1, a, c, b)\n",
    "        print(a, '-->', c)\n",
    "        hanoi(n - 1, b, a, c)\n",
    "hanoi(5,'a','b','c')\n"
   ]
  },
  {
   "cell_type": "markdown",
   "metadata": {},
   "source": [
    "# 递归求和"
   ]
  },
  {
   "cell_type": "code",
   "execution_count": 11,
   "metadata": {},
   "outputs": [],
   "source": [
    "def sum(a:list):\n",
    "    if len(a) == 1:\n",
    "        print(\"len(a) = 1\")\n",
    "        return a[0]\n",
    "    else:\n",
    "        print(f\"sum: {a[0]}+{a[1:]}\")\n",
    "        return a[0]+sum(a[1:])    "
   ]
  },
  {
   "cell_type": "code",
   "execution_count": 12,
   "metadata": {},
   "outputs": [
    {
     "name": "stdout",
     "output_type": "stream",
     "text": [
      "sum: 1+[2, 3, 4, 5, 6, 7, 8]\n",
      "sum: 2+[3, 4, 5, 6, 7, 8]\n",
      "sum: 3+[4, 5, 6, 7, 8]\n",
      "sum: 4+[5, 6, 7, 8]\n",
      "sum: 5+[6, 7, 8]\n",
      "sum: 6+[7, 8]\n",
      "sum: 7+[8]\n",
      "len(a) = 1\n"
     ]
    },
    {
     "data": {
      "text/plain": [
       "36"
      ]
     },
     "execution_count": 12,
     "metadata": {},
     "output_type": "execute_result"
    }
   ],
   "source": [
    "arr = [1,2,3,4,5,6,7,8]\n",
    "sum(arr)"
   ]
  },
  {
   "cell_type": "markdown",
   "metadata": {},
   "source": [
    "金字塔"
   ]
  },
  {
   "cell_type": "code",
   "execution_count": 1,
   "metadata": {},
   "outputs": [],
   "source": [
    "def fun(n):\n",
    "    for i in range(1,n+1): \n",
    "        print(\" \"*(n-i),end=\"\")\n",
    "        for j in range(1,i+1):\n",
    "            print(j,end=\"\")\n",
    "        for t in range(i-1,0,-1):\n",
    "            print(t,end=\"\")\n",
    "\n",
    "        print()\n"
   ]
  },
  {
   "cell_type": "code",
   "execution_count": 2,
   "metadata": {},
   "outputs": [
    {
     "name": "stdout",
     "output_type": "stream",
     "text": [
      "        1\n",
      "       121\n",
      "      12321\n",
      "     1234321\n",
      "    123454321\n",
      "   12345654321\n",
      "  1234567654321\n",
      " 123456787654321\n",
      "12345678987654321\n"
     ]
    }
   ],
   "source": [
    "fun(9)"
   ]
  },
  {
   "cell_type": "markdown",
   "metadata": {},
   "source": [
    "复原IP地址"
   ]
  },
  {
   "cell_type": "markdown",
   "metadata": {},
   "source": [
    "给定一个只包含数字的字符串，用以表示一个 IP 地址，返回所有可能从 s 获得的 有效 IP 地址 。你可以按任何顺序返回答案。\n",
    "\n",
    "有效 IP 地址 正好由四个整数（每个整数位于 0 到 255 之间组成，且不能含有前导 0），整数之间用 '.' 分隔。\n",
    "\n",
    "例如：\"0.1.2.201\" 和 \"192.168.1.1\" 是 有效 IP 地址，但是 \"0.011.255.245\"、\"192.168.1.312\" 和 \"192.168@1.1\" 是 无效 IP 地址。\n",
    "\n",
    " \n",
    "\n",
    "示例 1：\n",
    "\n",
    "输入：s = \"25525511135\"\n",
    "输出：[\"255.255.11.135\",\"255.255.111.35\"]\n",
    "示例 2：\n",
    "\n",
    "输入：s = \"0000\"\n",
    "输出：[\"0.0.0.0\"]\n",
    "示例 3：\n",
    "\n",
    "输入：s = \"1111\"\n",
    "输出：[\"1.1.1.1\"]\n",
    "示例 4：\n",
    "\n",
    "输入：s = \"010010\"\n",
    "输出：[\"0.10.0.10\",\"0.100.1.0\"]\n",
    "示例 5：\n",
    "\n",
    "输入：s = \"101023\"\n",
    "输出：[\"1.0.10.23\",\"1.0.102.3\",\"10.1.0.23\",\"10.10.2.3\",\"101.0.2.3\"]"
   ]
  },
  {
   "cell_type": "code",
   "execution_count": null,
   "metadata": {},
   "outputs": [],
   "source": [
    "class Solution:\n",
    "    def __init__(self):\n",
    "        self.result = []\n",
    "\n",
    "    def restoreIpAddresses(self, s: str) :\n",
    "        self.result.clear()\n",
    "        if len(s) > 12: return []\n",
    "        self.backtracking(s, 0, 0)\n",
    "        return self.result\n",
    "\n",
    "    def backtracking(self, s: str, start_index: int, point_num: int) :\n",
    "        # Base Case\n",
    "        if point_num == 3:\n",
    "            if self.is_valid(s, start_index, len(s)-1):\n",
    "                self.result.append(s[:])\n",
    "            return\n",
    "        # 单层递归逻辑\n",
    "        for i in range(start_index, len(s)):\n",
    "            # [start_index, i]就是被截取的子串\n",
    "            if self.is_valid(s, start_index, i):\n",
    "                s = s[:i+1] + '.' + s[i+1:]\n",
    "                self.backtracking(s, i+2, point_num+1)  # 在填入.后，下一子串起始后移2位\n",
    "                s = s[:i+1] + s[i+2:]    # 回溯\n",
    "            else:\n",
    "                # 若当前被截取的子串大于255或者大于三位数，直接结束本层循环\n",
    "                break\n",
    "    \n",
    "    def is_valid(self, s: str, start: int, end: int):\n",
    "        if start > end: return False\n",
    "        # 若数字是0开头，不合法\n",
    "        if s[start] == '0' and start != end:\n",
    "            return False\n",
    "        if not 0 <= int(s[start:end+1]) <= 255:\n",
    "            return False\n",
    "        return True"
   ]
  },
  {
   "cell_type": "code",
   "execution_count": 39,
   "metadata": {},
   "outputs": [],
   "source": [
    "global m \n",
    "m=4\n",
    "global n\n",
    "n=6\n",
    "global x\n",
    "x=4\n",
    "mianshiguan =[[\"Java\",\"C++\",\"Python\"],[\"Python\"],[\"C++\", \"Java\"],[\"Python\"]]\n",
    "mianshizhe = [\"Java\",\"Python\",\"C++\",\"Python\",\"C++\",\"Java\"]"
   ]
  },
  {
   "cell_type": "code",
   "execution_count": 40,
   "metadata": {},
   "outputs": [],
   "source": [
    "match = [[0 for i in range(m)]for j in range(n)]\n",
    "dp_m = [0 for i in range(m)]\n",
    "dp_n = [0 for i in range(n)]"
   ]
  },
  {
   "cell_type": "code",
   "execution_count": 38,
   "metadata": {},
   "outputs": [],
   "source": [
    "def dfs(dp_m, dp_n, mianshiguan, mianshizhe, match,row,col):\n",
    "    print(row,col)\n",
    "    print(match)\n",
    "    print(dp_m)\n",
    "    print(dp_n)\n",
    "    print()\n",
    "    if row == m:\n",
    "        for i in range(n):\n",
    "            if dp_n[i]!=2 :\n",
    "                return False\n",
    "        return True\n",
    "    if mianshizhe[col] in mianshiguan[row]:\n",
    "        if(dp_m[row]<x and dp_n[col]<2):\n",
    "            match[row][col] = 1\n",
    "            dp_m[row] +=1\n",
    "            dp_n[col] +=1\n",
    "            ret = False\n",
    "        if(col == n-1):\n",
    "            ret = dfs(dp_m, dp_n, mianshiguan, mianshizhe, match,row+1,0)\n",
    "        else:\n",
    "            ret = dfs(dp_m, dp_n, mianshiguan,mianshizhe,match,row,col+1)\n",
    "        if ret:\n",
    "            return True\n",
    "        match[row][col] = 0\n",
    "        dp_m[row] -=1\n",
    "        dp_n[col] -=1\n",
    "    if col==n-1:\n",
    "        return dfs(dp_m, dp_n, mianshiguan,mianshizhe,match,row+1,0)\n",
    "    return dfs(dp_m, dp_n, mianshiguan,mianshizhe,match,row,col+1)"
   ]
  },
  {
   "cell_type": "code",
   "execution_count": null,
   "metadata": {},
   "outputs": [],
   "source": []
  },
  {
   "cell_type": "code",
   "execution_count": null,
   "metadata": {},
   "outputs": [],
   "source": []
  },
  {
   "cell_type": "code",
   "execution_count": null,
   "metadata": {},
   "outputs": [],
   "source": []
  },
  {
   "cell_type": "code",
   "execution_count": 41,
   "metadata": {},
   "outputs": [
    {
     "name": "stdout",
     "output_type": "stream",
     "text": [
      "0 0\n",
      "[[0, 0, 0, 0], [0, 0, 0, 0], [0, 0, 0, 0], [0, 0, 0, 0], [0, 0, 0, 0], [0, 0, 0, 0]]\n",
      "[0, 0, 0, 0]\n",
      "[0, 0, 0, 0, 0, 0]\n",
      "\n",
      "0 1\n",
      "[[1, 0, 0, 0], [0, 0, 0, 0], [0, 0, 0, 0], [0, 0, 0, 0], [0, 0, 0, 0], [0, 0, 0, 0]]\n",
      "[1, 0, 0, 0]\n",
      "[1, 0, 0, 0, 0, 0]\n",
      "\n",
      "0 2\n",
      "[[1, 1, 0, 0], [0, 0, 0, 0], [0, 0, 0, 0], [0, 0, 0, 0], [0, 0, 0, 0], [0, 0, 0, 0]]\n",
      "[2, 0, 0, 0]\n",
      "[1, 1, 0, 0, 0, 0]\n",
      "\n",
      "0 3\n",
      "[[1, 1, 1, 0], [0, 0, 0, 0], [0, 0, 0, 0], [0, 0, 0, 0], [0, 0, 0, 0], [0, 0, 0, 0]]\n",
      "[3, 0, 0, 0]\n",
      "[1, 1, 1, 0, 0, 0]\n",
      "\n",
      "0 4\n",
      "[[1, 1, 1, 1], [0, 0, 0, 0], [0, 0, 0, 0], [0, 0, 0, 0], [0, 0, 0, 0], [0, 0, 0, 0]]\n",
      "[4, 0, 0, 0]\n",
      "[1, 1, 1, 1, 0, 0]\n",
      "\n",
      "0 5\n",
      "[[1, 1, 1, 1], [0, 0, 0, 0], [0, 0, 0, 0], [0, 0, 0, 0], [0, 0, 0, 0], [0, 0, 0, 0]]\n",
      "[4, 0, 0, 0]\n",
      "[1, 1, 1, 1, 0, 0]\n",
      "\n",
      "1 0\n",
      "[[1, 1, 1, 1], [0, 0, 0, 0], [0, 0, 0, 0], [0, 0, 0, 0], [0, 0, 0, 0], [0, 0, 0, 0]]\n",
      "[4, 0, 0, 0]\n",
      "[1, 1, 1, 1, 0, 0]\n",
      "\n",
      "1 1\n",
      "[[1, 1, 1, 1], [0, 0, 0, 0], [0, 0, 0, 0], [0, 0, 0, 0], [0, 0, 0, 0], [0, 0, 0, 0]]\n",
      "[4, 0, 0, 0]\n",
      "[1, 1, 1, 1, 0, 0]\n",
      "\n",
      "1 2\n",
      "[[1, 1, 1, 1], [0, 1, 0, 0], [0, 0, 0, 0], [0, 0, 0, 0], [0, 0, 0, 0], [0, 0, 0, 0]]\n",
      "[4, 1, 0, 0]\n",
      "[1, 2, 1, 1, 0, 0]\n",
      "\n",
      "1 3\n",
      "[[1, 1, 1, 1], [0, 1, 0, 0], [0, 0, 0, 0], [0, 0, 0, 0], [0, 0, 0, 0], [0, 0, 0, 0]]\n",
      "[4, 1, 0, 0]\n",
      "[1, 2, 1, 1, 0, 0]\n",
      "\n",
      "1 4\n",
      "[[1, 1, 1, 1], [0, 1, 0, 1], [0, 0, 0, 0], [0, 0, 0, 0], [0, 0, 0, 0], [0, 0, 0, 0]]\n",
      "[4, 2, 0, 0]\n",
      "[1, 2, 1, 2, 0, 0]\n",
      "\n",
      "1 5\n",
      "[[1, 1, 1, 1], [0, 1, 0, 1], [0, 0, 0, 0], [0, 0, 0, 0], [0, 0, 0, 0], [0, 0, 0, 0]]\n",
      "[4, 2, 0, 0]\n",
      "[1, 2, 1, 2, 0, 0]\n",
      "\n",
      "2 0\n",
      "[[1, 1, 1, 1], [0, 1, 0, 1], [0, 0, 0, 0], [0, 0, 0, 0], [0, 0, 0, 0], [0, 0, 0, 0]]\n",
      "[4, 2, 0, 0]\n",
      "[1, 2, 1, 2, 0, 0]\n",
      "\n",
      "2 1\n",
      "[[1, 1, 1, 1], [0, 1, 0, 1], [1, 0, 0, 0], [0, 0, 0, 0], [0, 0, 0, 0], [0, 0, 0, 0]]\n",
      "[4, 2, 1, 0]\n",
      "[2, 2, 1, 2, 0, 0]\n",
      "\n",
      "2 2\n",
      "[[1, 1, 1, 1], [0, 1, 0, 1], [1, 0, 0, 0], [0, 0, 0, 0], [0, 0, 0, 0], [0, 0, 0, 0]]\n",
      "[4, 2, 1, 0]\n",
      "[2, 2, 1, 2, 0, 0]\n",
      "\n",
      "2 3\n",
      "[[1, 1, 1, 1], [0, 1, 0, 1], [1, 0, 1, 0], [0, 0, 0, 0], [0, 0, 0, 0], [0, 0, 0, 0]]\n",
      "[4, 2, 2, 0]\n",
      "[2, 2, 2, 2, 0, 0]\n",
      "\n",
      "2 4\n",
      "[[1, 1, 1, 1], [0, 1, 0, 1], [1, 0, 1, 0], [0, 0, 0, 0], [0, 0, 0, 0], [0, 0, 0, 0]]\n",
      "[4, 2, 2, 0]\n",
      "[2, 2, 2, 2, 0, 0]\n",
      "\n"
     ]
    },
    {
     "ename": "IndexError",
     "evalue": "list assignment index out of range",
     "output_type": "error",
     "traceback": [
      "\u001b[1;31m---------------------------------------------------------------------------\u001b[0m",
      "\u001b[1;31mIndexError\u001b[0m                                Traceback (most recent call last)",
      "\u001b[1;32mC:\\Users\\ARCOBA~1\\AppData\\Local\\Temp/ipykernel_26972/1826078692.py\u001b[0m in \u001b[0;36m<module>\u001b[1;34m\u001b[0m\n\u001b[1;32m----> 1\u001b[1;33m \u001b[0mret\u001b[0m \u001b[1;33m=\u001b[0m \u001b[0mdfs\u001b[0m\u001b[1;33m(\u001b[0m\u001b[0mdp_m\u001b[0m\u001b[1;33m,\u001b[0m\u001b[0mdp_n\u001b[0m\u001b[1;33m,\u001b[0m\u001b[0mmianshiguan\u001b[0m\u001b[1;33m,\u001b[0m\u001b[0mmianshizhe\u001b[0m\u001b[1;33m,\u001b[0m\u001b[0mmatch\u001b[0m\u001b[1;33m,\u001b[0m\u001b[1;36m0\u001b[0m\u001b[1;33m,\u001b[0m\u001b[1;36m0\u001b[0m\u001b[1;33m)\u001b[0m\u001b[1;33m\u001b[0m\u001b[1;33m\u001b[0m\u001b[0m\n\u001b[0m",
      "\u001b[1;32mC:\\Users\\ARCOBA~1\\AppData\\Local\\Temp/ipykernel_26972/2663991740.py\u001b[0m in \u001b[0;36mdfs\u001b[1;34m(dp_m, dp_n, mianshiguan, mianshizhe, match, row, col)\u001b[0m\n\u001b[0;32m     19\u001b[0m             \u001b[0mret\u001b[0m \u001b[1;33m=\u001b[0m \u001b[0mdfs\u001b[0m\u001b[1;33m(\u001b[0m\u001b[0mdp_m\u001b[0m\u001b[1;33m,\u001b[0m \u001b[0mdp_n\u001b[0m\u001b[1;33m,\u001b[0m \u001b[0mmianshiguan\u001b[0m\u001b[1;33m,\u001b[0m \u001b[0mmianshizhe\u001b[0m\u001b[1;33m,\u001b[0m \u001b[0mmatch\u001b[0m\u001b[1;33m,\u001b[0m\u001b[0mrow\u001b[0m\u001b[1;33m+\u001b[0m\u001b[1;36m1\u001b[0m\u001b[1;33m,\u001b[0m\u001b[1;36m0\u001b[0m\u001b[1;33m)\u001b[0m\u001b[1;33m\u001b[0m\u001b[1;33m\u001b[0m\u001b[0m\n\u001b[0;32m     20\u001b[0m         \u001b[1;32melse\u001b[0m\u001b[1;33m:\u001b[0m\u001b[1;33m\u001b[0m\u001b[1;33m\u001b[0m\u001b[0m\n\u001b[1;32m---> 21\u001b[1;33m             \u001b[0mret\u001b[0m \u001b[1;33m=\u001b[0m \u001b[0mdfs\u001b[0m\u001b[1;33m(\u001b[0m\u001b[0mdp_m\u001b[0m\u001b[1;33m,\u001b[0m \u001b[0mdp_n\u001b[0m\u001b[1;33m,\u001b[0m \u001b[0mmianshiguan\u001b[0m\u001b[1;33m,\u001b[0m\u001b[0mmianshizhe\u001b[0m\u001b[1;33m,\u001b[0m\u001b[0mmatch\u001b[0m\u001b[1;33m,\u001b[0m\u001b[0mrow\u001b[0m\u001b[1;33m,\u001b[0m\u001b[0mcol\u001b[0m\u001b[1;33m+\u001b[0m\u001b[1;36m1\u001b[0m\u001b[1;33m)\u001b[0m\u001b[1;33m\u001b[0m\u001b[1;33m\u001b[0m\u001b[0m\n\u001b[0m\u001b[0;32m     22\u001b[0m         \u001b[1;32mif\u001b[0m \u001b[0mret\u001b[0m\u001b[1;33m:\u001b[0m\u001b[1;33m\u001b[0m\u001b[1;33m\u001b[0m\u001b[0m\n\u001b[0;32m     23\u001b[0m             \u001b[1;32mreturn\u001b[0m \u001b[1;32mTrue\u001b[0m\u001b[1;33m\u001b[0m\u001b[1;33m\u001b[0m\u001b[0m\n",
      "\u001b[1;32mC:\\Users\\ARCOBA~1\\AppData\\Local\\Temp/ipykernel_26972/2663991740.py\u001b[0m in \u001b[0;36mdfs\u001b[1;34m(dp_m, dp_n, mianshiguan, mianshizhe, match, row, col)\u001b[0m\n\u001b[0;32m     19\u001b[0m             \u001b[0mret\u001b[0m \u001b[1;33m=\u001b[0m \u001b[0mdfs\u001b[0m\u001b[1;33m(\u001b[0m\u001b[0mdp_m\u001b[0m\u001b[1;33m,\u001b[0m \u001b[0mdp_n\u001b[0m\u001b[1;33m,\u001b[0m \u001b[0mmianshiguan\u001b[0m\u001b[1;33m,\u001b[0m \u001b[0mmianshizhe\u001b[0m\u001b[1;33m,\u001b[0m \u001b[0mmatch\u001b[0m\u001b[1;33m,\u001b[0m\u001b[0mrow\u001b[0m\u001b[1;33m+\u001b[0m\u001b[1;36m1\u001b[0m\u001b[1;33m,\u001b[0m\u001b[1;36m0\u001b[0m\u001b[1;33m)\u001b[0m\u001b[1;33m\u001b[0m\u001b[1;33m\u001b[0m\u001b[0m\n\u001b[0;32m     20\u001b[0m         \u001b[1;32melse\u001b[0m\u001b[1;33m:\u001b[0m\u001b[1;33m\u001b[0m\u001b[1;33m\u001b[0m\u001b[0m\n\u001b[1;32m---> 21\u001b[1;33m             \u001b[0mret\u001b[0m \u001b[1;33m=\u001b[0m \u001b[0mdfs\u001b[0m\u001b[1;33m(\u001b[0m\u001b[0mdp_m\u001b[0m\u001b[1;33m,\u001b[0m \u001b[0mdp_n\u001b[0m\u001b[1;33m,\u001b[0m \u001b[0mmianshiguan\u001b[0m\u001b[1;33m,\u001b[0m\u001b[0mmianshizhe\u001b[0m\u001b[1;33m,\u001b[0m\u001b[0mmatch\u001b[0m\u001b[1;33m,\u001b[0m\u001b[0mrow\u001b[0m\u001b[1;33m,\u001b[0m\u001b[0mcol\u001b[0m\u001b[1;33m+\u001b[0m\u001b[1;36m1\u001b[0m\u001b[1;33m)\u001b[0m\u001b[1;33m\u001b[0m\u001b[1;33m\u001b[0m\u001b[0m\n\u001b[0m\u001b[0;32m     22\u001b[0m         \u001b[1;32mif\u001b[0m \u001b[0mret\u001b[0m\u001b[1;33m:\u001b[0m\u001b[1;33m\u001b[0m\u001b[1;33m\u001b[0m\u001b[0m\n\u001b[0;32m     23\u001b[0m             \u001b[1;32mreturn\u001b[0m \u001b[1;32mTrue\u001b[0m\u001b[1;33m\u001b[0m\u001b[1;33m\u001b[0m\u001b[0m\n",
      "\u001b[1;32mC:\\Users\\ARCOBA~1\\AppData\\Local\\Temp/ipykernel_26972/2663991740.py\u001b[0m in \u001b[0;36mdfs\u001b[1;34m(dp_m, dp_n, mianshiguan, mianshizhe, match, row, col)\u001b[0m\n\u001b[0;32m     19\u001b[0m             \u001b[0mret\u001b[0m \u001b[1;33m=\u001b[0m \u001b[0mdfs\u001b[0m\u001b[1;33m(\u001b[0m\u001b[0mdp_m\u001b[0m\u001b[1;33m,\u001b[0m \u001b[0mdp_n\u001b[0m\u001b[1;33m,\u001b[0m \u001b[0mmianshiguan\u001b[0m\u001b[1;33m,\u001b[0m \u001b[0mmianshizhe\u001b[0m\u001b[1;33m,\u001b[0m \u001b[0mmatch\u001b[0m\u001b[1;33m,\u001b[0m\u001b[0mrow\u001b[0m\u001b[1;33m+\u001b[0m\u001b[1;36m1\u001b[0m\u001b[1;33m,\u001b[0m\u001b[1;36m0\u001b[0m\u001b[1;33m)\u001b[0m\u001b[1;33m\u001b[0m\u001b[1;33m\u001b[0m\u001b[0m\n\u001b[0;32m     20\u001b[0m         \u001b[1;32melse\u001b[0m\u001b[1;33m:\u001b[0m\u001b[1;33m\u001b[0m\u001b[1;33m\u001b[0m\u001b[0m\n\u001b[1;32m---> 21\u001b[1;33m             \u001b[0mret\u001b[0m \u001b[1;33m=\u001b[0m \u001b[0mdfs\u001b[0m\u001b[1;33m(\u001b[0m\u001b[0mdp_m\u001b[0m\u001b[1;33m,\u001b[0m \u001b[0mdp_n\u001b[0m\u001b[1;33m,\u001b[0m \u001b[0mmianshiguan\u001b[0m\u001b[1;33m,\u001b[0m\u001b[0mmianshizhe\u001b[0m\u001b[1;33m,\u001b[0m\u001b[0mmatch\u001b[0m\u001b[1;33m,\u001b[0m\u001b[0mrow\u001b[0m\u001b[1;33m,\u001b[0m\u001b[0mcol\u001b[0m\u001b[1;33m+\u001b[0m\u001b[1;36m1\u001b[0m\u001b[1;33m)\u001b[0m\u001b[1;33m\u001b[0m\u001b[1;33m\u001b[0m\u001b[0m\n\u001b[0m\u001b[0;32m     22\u001b[0m         \u001b[1;32mif\u001b[0m \u001b[0mret\u001b[0m\u001b[1;33m:\u001b[0m\u001b[1;33m\u001b[0m\u001b[1;33m\u001b[0m\u001b[0m\n\u001b[0;32m     23\u001b[0m             \u001b[1;32mreturn\u001b[0m \u001b[1;32mTrue\u001b[0m\u001b[1;33m\u001b[0m\u001b[1;33m\u001b[0m\u001b[0m\n",
      "\u001b[1;32mC:\\Users\\ARCOBA~1\\AppData\\Local\\Temp/ipykernel_26972/2663991740.py\u001b[0m in \u001b[0;36mdfs\u001b[1;34m(dp_m, dp_n, mianshiguan, mianshizhe, match, row, col)\u001b[0m\n\u001b[0;32m     19\u001b[0m             \u001b[0mret\u001b[0m \u001b[1;33m=\u001b[0m \u001b[0mdfs\u001b[0m\u001b[1;33m(\u001b[0m\u001b[0mdp_m\u001b[0m\u001b[1;33m,\u001b[0m \u001b[0mdp_n\u001b[0m\u001b[1;33m,\u001b[0m \u001b[0mmianshiguan\u001b[0m\u001b[1;33m,\u001b[0m \u001b[0mmianshizhe\u001b[0m\u001b[1;33m,\u001b[0m \u001b[0mmatch\u001b[0m\u001b[1;33m,\u001b[0m\u001b[0mrow\u001b[0m\u001b[1;33m+\u001b[0m\u001b[1;36m1\u001b[0m\u001b[1;33m,\u001b[0m\u001b[1;36m0\u001b[0m\u001b[1;33m)\u001b[0m\u001b[1;33m\u001b[0m\u001b[1;33m\u001b[0m\u001b[0m\n\u001b[0;32m     20\u001b[0m         \u001b[1;32melse\u001b[0m\u001b[1;33m:\u001b[0m\u001b[1;33m\u001b[0m\u001b[1;33m\u001b[0m\u001b[0m\n\u001b[1;32m---> 21\u001b[1;33m             \u001b[0mret\u001b[0m \u001b[1;33m=\u001b[0m \u001b[0mdfs\u001b[0m\u001b[1;33m(\u001b[0m\u001b[0mdp_m\u001b[0m\u001b[1;33m,\u001b[0m \u001b[0mdp_n\u001b[0m\u001b[1;33m,\u001b[0m \u001b[0mmianshiguan\u001b[0m\u001b[1;33m,\u001b[0m\u001b[0mmianshizhe\u001b[0m\u001b[1;33m,\u001b[0m\u001b[0mmatch\u001b[0m\u001b[1;33m,\u001b[0m\u001b[0mrow\u001b[0m\u001b[1;33m,\u001b[0m\u001b[0mcol\u001b[0m\u001b[1;33m+\u001b[0m\u001b[1;36m1\u001b[0m\u001b[1;33m)\u001b[0m\u001b[1;33m\u001b[0m\u001b[1;33m\u001b[0m\u001b[0m\n\u001b[0m\u001b[0;32m     22\u001b[0m         \u001b[1;32mif\u001b[0m \u001b[0mret\u001b[0m\u001b[1;33m:\u001b[0m\u001b[1;33m\u001b[0m\u001b[1;33m\u001b[0m\u001b[0m\n\u001b[0;32m     23\u001b[0m             \u001b[1;32mreturn\u001b[0m \u001b[1;32mTrue\u001b[0m\u001b[1;33m\u001b[0m\u001b[1;33m\u001b[0m\u001b[0m\n",
      "\u001b[1;32mC:\\Users\\ARCOBA~1\\AppData\\Local\\Temp/ipykernel_26972/2663991740.py\u001b[0m in \u001b[0;36mdfs\u001b[1;34m(dp_m, dp_n, mianshiguan, mianshizhe, match, row, col)\u001b[0m\n\u001b[0;32m     19\u001b[0m             \u001b[0mret\u001b[0m \u001b[1;33m=\u001b[0m \u001b[0mdfs\u001b[0m\u001b[1;33m(\u001b[0m\u001b[0mdp_m\u001b[0m\u001b[1;33m,\u001b[0m \u001b[0mdp_n\u001b[0m\u001b[1;33m,\u001b[0m \u001b[0mmianshiguan\u001b[0m\u001b[1;33m,\u001b[0m \u001b[0mmianshizhe\u001b[0m\u001b[1;33m,\u001b[0m \u001b[0mmatch\u001b[0m\u001b[1;33m,\u001b[0m\u001b[0mrow\u001b[0m\u001b[1;33m+\u001b[0m\u001b[1;36m1\u001b[0m\u001b[1;33m,\u001b[0m\u001b[1;36m0\u001b[0m\u001b[1;33m)\u001b[0m\u001b[1;33m\u001b[0m\u001b[1;33m\u001b[0m\u001b[0m\n\u001b[0;32m     20\u001b[0m         \u001b[1;32melse\u001b[0m\u001b[1;33m:\u001b[0m\u001b[1;33m\u001b[0m\u001b[1;33m\u001b[0m\u001b[0m\n\u001b[1;32m---> 21\u001b[1;33m             \u001b[0mret\u001b[0m \u001b[1;33m=\u001b[0m \u001b[0mdfs\u001b[0m\u001b[1;33m(\u001b[0m\u001b[0mdp_m\u001b[0m\u001b[1;33m,\u001b[0m \u001b[0mdp_n\u001b[0m\u001b[1;33m,\u001b[0m \u001b[0mmianshiguan\u001b[0m\u001b[1;33m,\u001b[0m\u001b[0mmianshizhe\u001b[0m\u001b[1;33m,\u001b[0m\u001b[0mmatch\u001b[0m\u001b[1;33m,\u001b[0m\u001b[0mrow\u001b[0m\u001b[1;33m,\u001b[0m\u001b[0mcol\u001b[0m\u001b[1;33m+\u001b[0m\u001b[1;36m1\u001b[0m\u001b[1;33m)\u001b[0m\u001b[1;33m\u001b[0m\u001b[1;33m\u001b[0m\u001b[0m\n\u001b[0m\u001b[0;32m     22\u001b[0m         \u001b[1;32mif\u001b[0m \u001b[0mret\u001b[0m\u001b[1;33m:\u001b[0m\u001b[1;33m\u001b[0m\u001b[1;33m\u001b[0m\u001b[0m\n\u001b[0;32m     23\u001b[0m             \u001b[1;32mreturn\u001b[0m \u001b[1;32mTrue\u001b[0m\u001b[1;33m\u001b[0m\u001b[1;33m\u001b[0m\u001b[0m\n",
      "\u001b[1;32mC:\\Users\\ARCOBA~1\\AppData\\Local\\Temp/ipykernel_26972/2663991740.py\u001b[0m in \u001b[0;36mdfs\u001b[1;34m(dp_m, dp_n, mianshiguan, mianshizhe, match, row, col)\u001b[0m\n\u001b[0;32m     17\u001b[0m             \u001b[0mret\u001b[0m \u001b[1;33m=\u001b[0m \u001b[1;32mFalse\u001b[0m\u001b[1;33m\u001b[0m\u001b[1;33m\u001b[0m\u001b[0m\n\u001b[0;32m     18\u001b[0m         \u001b[1;32mif\u001b[0m\u001b[1;33m(\u001b[0m\u001b[0mcol\u001b[0m \u001b[1;33m==\u001b[0m \u001b[0mn\u001b[0m\u001b[1;33m-\u001b[0m\u001b[1;36m1\u001b[0m\u001b[1;33m)\u001b[0m\u001b[1;33m:\u001b[0m\u001b[1;33m\u001b[0m\u001b[1;33m\u001b[0m\u001b[0m\n\u001b[1;32m---> 19\u001b[1;33m             \u001b[0mret\u001b[0m \u001b[1;33m=\u001b[0m \u001b[0mdfs\u001b[0m\u001b[1;33m(\u001b[0m\u001b[0mdp_m\u001b[0m\u001b[1;33m,\u001b[0m \u001b[0mdp_n\u001b[0m\u001b[1;33m,\u001b[0m \u001b[0mmianshiguan\u001b[0m\u001b[1;33m,\u001b[0m \u001b[0mmianshizhe\u001b[0m\u001b[1;33m,\u001b[0m \u001b[0mmatch\u001b[0m\u001b[1;33m,\u001b[0m\u001b[0mrow\u001b[0m\u001b[1;33m+\u001b[0m\u001b[1;36m1\u001b[0m\u001b[1;33m,\u001b[0m\u001b[1;36m0\u001b[0m\u001b[1;33m)\u001b[0m\u001b[1;33m\u001b[0m\u001b[1;33m\u001b[0m\u001b[0m\n\u001b[0m\u001b[0;32m     20\u001b[0m         \u001b[1;32melse\u001b[0m\u001b[1;33m:\u001b[0m\u001b[1;33m\u001b[0m\u001b[1;33m\u001b[0m\u001b[0m\n\u001b[0;32m     21\u001b[0m             \u001b[0mret\u001b[0m \u001b[1;33m=\u001b[0m \u001b[0mdfs\u001b[0m\u001b[1;33m(\u001b[0m\u001b[0mdp_m\u001b[0m\u001b[1;33m,\u001b[0m \u001b[0mdp_n\u001b[0m\u001b[1;33m,\u001b[0m \u001b[0mmianshiguan\u001b[0m\u001b[1;33m,\u001b[0m\u001b[0mmianshizhe\u001b[0m\u001b[1;33m,\u001b[0m\u001b[0mmatch\u001b[0m\u001b[1;33m,\u001b[0m\u001b[0mrow\u001b[0m\u001b[1;33m,\u001b[0m\u001b[0mcol\u001b[0m\u001b[1;33m+\u001b[0m\u001b[1;36m1\u001b[0m\u001b[1;33m)\u001b[0m\u001b[1;33m\u001b[0m\u001b[1;33m\u001b[0m\u001b[0m\n",
      "\u001b[1;32mC:\\Users\\ARCOBA~1\\AppData\\Local\\Temp/ipykernel_26972/2663991740.py\u001b[0m in \u001b[0;36mdfs\u001b[1;34m(dp_m, dp_n, mianshiguan, mianshizhe, match, row, col)\u001b[0m\n\u001b[0;32m     27\u001b[0m     \u001b[1;32mif\u001b[0m \u001b[0mcol\u001b[0m\u001b[1;33m==\u001b[0m\u001b[0mn\u001b[0m\u001b[1;33m-\u001b[0m\u001b[1;36m1\u001b[0m\u001b[1;33m:\u001b[0m\u001b[1;33m\u001b[0m\u001b[1;33m\u001b[0m\u001b[0m\n\u001b[0;32m     28\u001b[0m         \u001b[1;32mreturn\u001b[0m \u001b[0mdfs\u001b[0m\u001b[1;33m(\u001b[0m\u001b[0mdp_m\u001b[0m\u001b[1;33m,\u001b[0m \u001b[0mdp_n\u001b[0m\u001b[1;33m,\u001b[0m \u001b[0mmianshiguan\u001b[0m\u001b[1;33m,\u001b[0m\u001b[0mmianshizhe\u001b[0m\u001b[1;33m,\u001b[0m\u001b[0mmatch\u001b[0m\u001b[1;33m,\u001b[0m\u001b[0mrow\u001b[0m\u001b[1;33m+\u001b[0m\u001b[1;36m1\u001b[0m\u001b[1;33m,\u001b[0m\u001b[1;36m0\u001b[0m\u001b[1;33m)\u001b[0m\u001b[1;33m\u001b[0m\u001b[1;33m\u001b[0m\u001b[0m\n\u001b[1;32m---> 29\u001b[1;33m     \u001b[1;32mreturn\u001b[0m \u001b[0mdfs\u001b[0m\u001b[1;33m(\u001b[0m\u001b[0mdp_m\u001b[0m\u001b[1;33m,\u001b[0m \u001b[0mdp_n\u001b[0m\u001b[1;33m,\u001b[0m \u001b[0mmianshiguan\u001b[0m\u001b[1;33m,\u001b[0m\u001b[0mmianshizhe\u001b[0m\u001b[1;33m,\u001b[0m\u001b[0mmatch\u001b[0m\u001b[1;33m,\u001b[0m\u001b[0mrow\u001b[0m\u001b[1;33m,\u001b[0m\u001b[0mcol\u001b[0m\u001b[1;33m+\u001b[0m\u001b[1;36m1\u001b[0m\u001b[1;33m)\u001b[0m\u001b[1;33m\u001b[0m\u001b[1;33m\u001b[0m\u001b[0m\n\u001b[0m",
      "\u001b[1;32mC:\\Users\\ARCOBA~1\\AppData\\Local\\Temp/ipykernel_26972/2663991740.py\u001b[0m in \u001b[0;36mdfs\u001b[1;34m(dp_m, dp_n, mianshiguan, mianshizhe, match, row, col)\u001b[0m\n\u001b[0;32m     19\u001b[0m             \u001b[0mret\u001b[0m \u001b[1;33m=\u001b[0m \u001b[0mdfs\u001b[0m\u001b[1;33m(\u001b[0m\u001b[0mdp_m\u001b[0m\u001b[1;33m,\u001b[0m \u001b[0mdp_n\u001b[0m\u001b[1;33m,\u001b[0m \u001b[0mmianshiguan\u001b[0m\u001b[1;33m,\u001b[0m \u001b[0mmianshizhe\u001b[0m\u001b[1;33m,\u001b[0m \u001b[0mmatch\u001b[0m\u001b[1;33m,\u001b[0m\u001b[0mrow\u001b[0m\u001b[1;33m+\u001b[0m\u001b[1;36m1\u001b[0m\u001b[1;33m,\u001b[0m\u001b[1;36m0\u001b[0m\u001b[1;33m)\u001b[0m\u001b[1;33m\u001b[0m\u001b[1;33m\u001b[0m\u001b[0m\n\u001b[0;32m     20\u001b[0m         \u001b[1;32melse\u001b[0m\u001b[1;33m:\u001b[0m\u001b[1;33m\u001b[0m\u001b[1;33m\u001b[0m\u001b[0m\n\u001b[1;32m---> 21\u001b[1;33m             \u001b[0mret\u001b[0m \u001b[1;33m=\u001b[0m \u001b[0mdfs\u001b[0m\u001b[1;33m(\u001b[0m\u001b[0mdp_m\u001b[0m\u001b[1;33m,\u001b[0m \u001b[0mdp_n\u001b[0m\u001b[1;33m,\u001b[0m \u001b[0mmianshiguan\u001b[0m\u001b[1;33m,\u001b[0m\u001b[0mmianshizhe\u001b[0m\u001b[1;33m,\u001b[0m\u001b[0mmatch\u001b[0m\u001b[1;33m,\u001b[0m\u001b[0mrow\u001b[0m\u001b[1;33m,\u001b[0m\u001b[0mcol\u001b[0m\u001b[1;33m+\u001b[0m\u001b[1;36m1\u001b[0m\u001b[1;33m)\u001b[0m\u001b[1;33m\u001b[0m\u001b[1;33m\u001b[0m\u001b[0m\n\u001b[0m\u001b[0;32m     22\u001b[0m         \u001b[1;32mif\u001b[0m \u001b[0mret\u001b[0m\u001b[1;33m:\u001b[0m\u001b[1;33m\u001b[0m\u001b[1;33m\u001b[0m\u001b[0m\n\u001b[0;32m     23\u001b[0m             \u001b[1;32mreturn\u001b[0m \u001b[1;32mTrue\u001b[0m\u001b[1;33m\u001b[0m\u001b[1;33m\u001b[0m\u001b[0m\n",
      "\u001b[1;32mC:\\Users\\ARCOBA~1\\AppData\\Local\\Temp/ipykernel_26972/2663991740.py\u001b[0m in \u001b[0;36mdfs\u001b[1;34m(dp_m, dp_n, mianshiguan, mianshizhe, match, row, col)\u001b[0m\n\u001b[0;32m     27\u001b[0m     \u001b[1;32mif\u001b[0m \u001b[0mcol\u001b[0m\u001b[1;33m==\u001b[0m\u001b[0mn\u001b[0m\u001b[1;33m-\u001b[0m\u001b[1;36m1\u001b[0m\u001b[1;33m:\u001b[0m\u001b[1;33m\u001b[0m\u001b[1;33m\u001b[0m\u001b[0m\n\u001b[0;32m     28\u001b[0m         \u001b[1;32mreturn\u001b[0m \u001b[0mdfs\u001b[0m\u001b[1;33m(\u001b[0m\u001b[0mdp_m\u001b[0m\u001b[1;33m,\u001b[0m \u001b[0mdp_n\u001b[0m\u001b[1;33m,\u001b[0m \u001b[0mmianshiguan\u001b[0m\u001b[1;33m,\u001b[0m\u001b[0mmianshizhe\u001b[0m\u001b[1;33m,\u001b[0m\u001b[0mmatch\u001b[0m\u001b[1;33m,\u001b[0m\u001b[0mrow\u001b[0m\u001b[1;33m+\u001b[0m\u001b[1;36m1\u001b[0m\u001b[1;33m,\u001b[0m\u001b[1;36m0\u001b[0m\u001b[1;33m)\u001b[0m\u001b[1;33m\u001b[0m\u001b[1;33m\u001b[0m\u001b[0m\n\u001b[1;32m---> 29\u001b[1;33m     \u001b[1;32mreturn\u001b[0m \u001b[0mdfs\u001b[0m\u001b[1;33m(\u001b[0m\u001b[0mdp_m\u001b[0m\u001b[1;33m,\u001b[0m \u001b[0mdp_n\u001b[0m\u001b[1;33m,\u001b[0m \u001b[0mmianshiguan\u001b[0m\u001b[1;33m,\u001b[0m\u001b[0mmianshizhe\u001b[0m\u001b[1;33m,\u001b[0m\u001b[0mmatch\u001b[0m\u001b[1;33m,\u001b[0m\u001b[0mrow\u001b[0m\u001b[1;33m,\u001b[0m\u001b[0mcol\u001b[0m\u001b[1;33m+\u001b[0m\u001b[1;36m1\u001b[0m\u001b[1;33m)\u001b[0m\u001b[1;33m\u001b[0m\u001b[1;33m\u001b[0m\u001b[0m\n\u001b[0m",
      "\u001b[1;32mC:\\Users\\ARCOBA~1\\AppData\\Local\\Temp/ipykernel_26972/2663991740.py\u001b[0m in \u001b[0;36mdfs\u001b[1;34m(dp_m, dp_n, mianshiguan, mianshizhe, match, row, col)\u001b[0m\n\u001b[0;32m     19\u001b[0m             \u001b[0mret\u001b[0m \u001b[1;33m=\u001b[0m \u001b[0mdfs\u001b[0m\u001b[1;33m(\u001b[0m\u001b[0mdp_m\u001b[0m\u001b[1;33m,\u001b[0m \u001b[0mdp_n\u001b[0m\u001b[1;33m,\u001b[0m \u001b[0mmianshiguan\u001b[0m\u001b[1;33m,\u001b[0m \u001b[0mmianshizhe\u001b[0m\u001b[1;33m,\u001b[0m \u001b[0mmatch\u001b[0m\u001b[1;33m,\u001b[0m\u001b[0mrow\u001b[0m\u001b[1;33m+\u001b[0m\u001b[1;36m1\u001b[0m\u001b[1;33m,\u001b[0m\u001b[1;36m0\u001b[0m\u001b[1;33m)\u001b[0m\u001b[1;33m\u001b[0m\u001b[1;33m\u001b[0m\u001b[0m\n\u001b[0;32m     20\u001b[0m         \u001b[1;32melse\u001b[0m\u001b[1;33m:\u001b[0m\u001b[1;33m\u001b[0m\u001b[1;33m\u001b[0m\u001b[0m\n\u001b[1;32m---> 21\u001b[1;33m             \u001b[0mret\u001b[0m \u001b[1;33m=\u001b[0m \u001b[0mdfs\u001b[0m\u001b[1;33m(\u001b[0m\u001b[0mdp_m\u001b[0m\u001b[1;33m,\u001b[0m \u001b[0mdp_n\u001b[0m\u001b[1;33m,\u001b[0m \u001b[0mmianshiguan\u001b[0m\u001b[1;33m,\u001b[0m\u001b[0mmianshizhe\u001b[0m\u001b[1;33m,\u001b[0m\u001b[0mmatch\u001b[0m\u001b[1;33m,\u001b[0m\u001b[0mrow\u001b[0m\u001b[1;33m,\u001b[0m\u001b[0mcol\u001b[0m\u001b[1;33m+\u001b[0m\u001b[1;36m1\u001b[0m\u001b[1;33m)\u001b[0m\u001b[1;33m\u001b[0m\u001b[1;33m\u001b[0m\u001b[0m\n\u001b[0m\u001b[0;32m     22\u001b[0m         \u001b[1;32mif\u001b[0m \u001b[0mret\u001b[0m\u001b[1;33m:\u001b[0m\u001b[1;33m\u001b[0m\u001b[1;33m\u001b[0m\u001b[0m\n\u001b[0;32m     23\u001b[0m             \u001b[1;32mreturn\u001b[0m \u001b[1;32mTrue\u001b[0m\u001b[1;33m\u001b[0m\u001b[1;33m\u001b[0m\u001b[0m\n",
      "\u001b[1;32mC:\\Users\\ARCOBA~1\\AppData\\Local\\Temp/ipykernel_26972/2663991740.py\u001b[0m in \u001b[0;36mdfs\u001b[1;34m(dp_m, dp_n, mianshiguan, mianshizhe, match, row, col)\u001b[0m\n\u001b[0;32m     27\u001b[0m     \u001b[1;32mif\u001b[0m \u001b[0mcol\u001b[0m\u001b[1;33m==\u001b[0m\u001b[0mn\u001b[0m\u001b[1;33m-\u001b[0m\u001b[1;36m1\u001b[0m\u001b[1;33m:\u001b[0m\u001b[1;33m\u001b[0m\u001b[1;33m\u001b[0m\u001b[0m\n\u001b[0;32m     28\u001b[0m         \u001b[1;32mreturn\u001b[0m \u001b[0mdfs\u001b[0m\u001b[1;33m(\u001b[0m\u001b[0mdp_m\u001b[0m\u001b[1;33m,\u001b[0m \u001b[0mdp_n\u001b[0m\u001b[1;33m,\u001b[0m \u001b[0mmianshiguan\u001b[0m\u001b[1;33m,\u001b[0m\u001b[0mmianshizhe\u001b[0m\u001b[1;33m,\u001b[0m\u001b[0mmatch\u001b[0m\u001b[1;33m,\u001b[0m\u001b[0mrow\u001b[0m\u001b[1;33m+\u001b[0m\u001b[1;36m1\u001b[0m\u001b[1;33m,\u001b[0m\u001b[1;36m0\u001b[0m\u001b[1;33m)\u001b[0m\u001b[1;33m\u001b[0m\u001b[1;33m\u001b[0m\u001b[0m\n\u001b[1;32m---> 29\u001b[1;33m     \u001b[1;32mreturn\u001b[0m \u001b[0mdfs\u001b[0m\u001b[1;33m(\u001b[0m\u001b[0mdp_m\u001b[0m\u001b[1;33m,\u001b[0m \u001b[0mdp_n\u001b[0m\u001b[1;33m,\u001b[0m \u001b[0mmianshiguan\u001b[0m\u001b[1;33m,\u001b[0m\u001b[0mmianshizhe\u001b[0m\u001b[1;33m,\u001b[0m\u001b[0mmatch\u001b[0m\u001b[1;33m,\u001b[0m\u001b[0mrow\u001b[0m\u001b[1;33m,\u001b[0m\u001b[0mcol\u001b[0m\u001b[1;33m+\u001b[0m\u001b[1;36m1\u001b[0m\u001b[1;33m)\u001b[0m\u001b[1;33m\u001b[0m\u001b[1;33m\u001b[0m\u001b[0m\n\u001b[0m",
      "\u001b[1;32mC:\\Users\\ARCOBA~1\\AppData\\Local\\Temp/ipykernel_26972/2663991740.py\u001b[0m in \u001b[0;36mdfs\u001b[1;34m(dp_m, dp_n, mianshiguan, mianshizhe, match, row, col)\u001b[0m\n\u001b[0;32m     26\u001b[0m         \u001b[0mdp_n\u001b[0m\u001b[1;33m[\u001b[0m\u001b[0mcol\u001b[0m\u001b[1;33m]\u001b[0m \u001b[1;33m-=\u001b[0m\u001b[1;36m1\u001b[0m\u001b[1;33m\u001b[0m\u001b[1;33m\u001b[0m\u001b[0m\n\u001b[0;32m     27\u001b[0m     \u001b[1;32mif\u001b[0m \u001b[0mcol\u001b[0m\u001b[1;33m==\u001b[0m\u001b[0mn\u001b[0m\u001b[1;33m-\u001b[0m\u001b[1;36m1\u001b[0m\u001b[1;33m:\u001b[0m\u001b[1;33m\u001b[0m\u001b[1;33m\u001b[0m\u001b[0m\n\u001b[1;32m---> 28\u001b[1;33m         \u001b[1;32mreturn\u001b[0m \u001b[0mdfs\u001b[0m\u001b[1;33m(\u001b[0m\u001b[0mdp_m\u001b[0m\u001b[1;33m,\u001b[0m \u001b[0mdp_n\u001b[0m\u001b[1;33m,\u001b[0m \u001b[0mmianshiguan\u001b[0m\u001b[1;33m,\u001b[0m\u001b[0mmianshizhe\u001b[0m\u001b[1;33m,\u001b[0m\u001b[0mmatch\u001b[0m\u001b[1;33m,\u001b[0m\u001b[0mrow\u001b[0m\u001b[1;33m+\u001b[0m\u001b[1;36m1\u001b[0m\u001b[1;33m,\u001b[0m\u001b[1;36m0\u001b[0m\u001b[1;33m)\u001b[0m\u001b[1;33m\u001b[0m\u001b[1;33m\u001b[0m\u001b[0m\n\u001b[0m\u001b[0;32m     29\u001b[0m     \u001b[1;32mreturn\u001b[0m \u001b[0mdfs\u001b[0m\u001b[1;33m(\u001b[0m\u001b[0mdp_m\u001b[0m\u001b[1;33m,\u001b[0m \u001b[0mdp_n\u001b[0m\u001b[1;33m,\u001b[0m \u001b[0mmianshiguan\u001b[0m\u001b[1;33m,\u001b[0m\u001b[0mmianshizhe\u001b[0m\u001b[1;33m,\u001b[0m\u001b[0mmatch\u001b[0m\u001b[1;33m,\u001b[0m\u001b[0mrow\u001b[0m\u001b[1;33m,\u001b[0m\u001b[0mcol\u001b[0m\u001b[1;33m+\u001b[0m\u001b[1;36m1\u001b[0m\u001b[1;33m)\u001b[0m\u001b[1;33m\u001b[0m\u001b[1;33m\u001b[0m\u001b[0m\n",
      "\u001b[1;32mC:\\Users\\ARCOBA~1\\AppData\\Local\\Temp/ipykernel_26972/2663991740.py\u001b[0m in \u001b[0;36mdfs\u001b[1;34m(dp_m, dp_n, mianshiguan, mianshizhe, match, row, col)\u001b[0m\n\u001b[0;32m     19\u001b[0m             \u001b[0mret\u001b[0m \u001b[1;33m=\u001b[0m \u001b[0mdfs\u001b[0m\u001b[1;33m(\u001b[0m\u001b[0mdp_m\u001b[0m\u001b[1;33m,\u001b[0m \u001b[0mdp_n\u001b[0m\u001b[1;33m,\u001b[0m \u001b[0mmianshiguan\u001b[0m\u001b[1;33m,\u001b[0m \u001b[0mmianshizhe\u001b[0m\u001b[1;33m,\u001b[0m \u001b[0mmatch\u001b[0m\u001b[1;33m,\u001b[0m\u001b[0mrow\u001b[0m\u001b[1;33m+\u001b[0m\u001b[1;36m1\u001b[0m\u001b[1;33m,\u001b[0m\u001b[1;36m0\u001b[0m\u001b[1;33m)\u001b[0m\u001b[1;33m\u001b[0m\u001b[1;33m\u001b[0m\u001b[0m\n\u001b[0;32m     20\u001b[0m         \u001b[1;32melse\u001b[0m\u001b[1;33m:\u001b[0m\u001b[1;33m\u001b[0m\u001b[1;33m\u001b[0m\u001b[0m\n\u001b[1;32m---> 21\u001b[1;33m             \u001b[0mret\u001b[0m \u001b[1;33m=\u001b[0m \u001b[0mdfs\u001b[0m\u001b[1;33m(\u001b[0m\u001b[0mdp_m\u001b[0m\u001b[1;33m,\u001b[0m \u001b[0mdp_n\u001b[0m\u001b[1;33m,\u001b[0m \u001b[0mmianshiguan\u001b[0m\u001b[1;33m,\u001b[0m\u001b[0mmianshizhe\u001b[0m\u001b[1;33m,\u001b[0m\u001b[0mmatch\u001b[0m\u001b[1;33m,\u001b[0m\u001b[0mrow\u001b[0m\u001b[1;33m,\u001b[0m\u001b[0mcol\u001b[0m\u001b[1;33m+\u001b[0m\u001b[1;36m1\u001b[0m\u001b[1;33m)\u001b[0m\u001b[1;33m\u001b[0m\u001b[1;33m\u001b[0m\u001b[0m\n\u001b[0m\u001b[0;32m     22\u001b[0m         \u001b[1;32mif\u001b[0m \u001b[0mret\u001b[0m\u001b[1;33m:\u001b[0m\u001b[1;33m\u001b[0m\u001b[1;33m\u001b[0m\u001b[0m\n\u001b[0;32m     23\u001b[0m             \u001b[1;32mreturn\u001b[0m \u001b[1;32mTrue\u001b[0m\u001b[1;33m\u001b[0m\u001b[1;33m\u001b[0m\u001b[0m\n",
      "\u001b[1;32mC:\\Users\\ARCOBA~1\\AppData\\Local\\Temp/ipykernel_26972/2663991740.py\u001b[0m in \u001b[0;36mdfs\u001b[1;34m(dp_m, dp_n, mianshiguan, mianshizhe, match, row, col)\u001b[0m\n\u001b[0;32m     27\u001b[0m     \u001b[1;32mif\u001b[0m \u001b[0mcol\u001b[0m\u001b[1;33m==\u001b[0m\u001b[0mn\u001b[0m\u001b[1;33m-\u001b[0m\u001b[1;36m1\u001b[0m\u001b[1;33m:\u001b[0m\u001b[1;33m\u001b[0m\u001b[1;33m\u001b[0m\u001b[0m\n\u001b[0;32m     28\u001b[0m         \u001b[1;32mreturn\u001b[0m \u001b[0mdfs\u001b[0m\u001b[1;33m(\u001b[0m\u001b[0mdp_m\u001b[0m\u001b[1;33m,\u001b[0m \u001b[0mdp_n\u001b[0m\u001b[1;33m,\u001b[0m \u001b[0mmianshiguan\u001b[0m\u001b[1;33m,\u001b[0m\u001b[0mmianshizhe\u001b[0m\u001b[1;33m,\u001b[0m\u001b[0mmatch\u001b[0m\u001b[1;33m,\u001b[0m\u001b[0mrow\u001b[0m\u001b[1;33m+\u001b[0m\u001b[1;36m1\u001b[0m\u001b[1;33m,\u001b[0m\u001b[1;36m0\u001b[0m\u001b[1;33m)\u001b[0m\u001b[1;33m\u001b[0m\u001b[1;33m\u001b[0m\u001b[0m\n\u001b[1;32m---> 29\u001b[1;33m     \u001b[1;32mreturn\u001b[0m \u001b[0mdfs\u001b[0m\u001b[1;33m(\u001b[0m\u001b[0mdp_m\u001b[0m\u001b[1;33m,\u001b[0m \u001b[0mdp_n\u001b[0m\u001b[1;33m,\u001b[0m \u001b[0mmianshiguan\u001b[0m\u001b[1;33m,\u001b[0m\u001b[0mmianshizhe\u001b[0m\u001b[1;33m,\u001b[0m\u001b[0mmatch\u001b[0m\u001b[1;33m,\u001b[0m\u001b[0mrow\u001b[0m\u001b[1;33m,\u001b[0m\u001b[0mcol\u001b[0m\u001b[1;33m+\u001b[0m\u001b[1;36m1\u001b[0m\u001b[1;33m)\u001b[0m\u001b[1;33m\u001b[0m\u001b[1;33m\u001b[0m\u001b[0m\n\u001b[0m",
      "\u001b[1;32mC:\\Users\\ARCOBA~1\\AppData\\Local\\Temp/ipykernel_26972/2663991740.py\u001b[0m in \u001b[0;36mdfs\u001b[1;34m(dp_m, dp_n, mianshiguan, mianshizhe, match, row, col)\u001b[0m\n\u001b[0;32m     19\u001b[0m             \u001b[0mret\u001b[0m \u001b[1;33m=\u001b[0m \u001b[0mdfs\u001b[0m\u001b[1;33m(\u001b[0m\u001b[0mdp_m\u001b[0m\u001b[1;33m,\u001b[0m \u001b[0mdp_n\u001b[0m\u001b[1;33m,\u001b[0m \u001b[0mmianshiguan\u001b[0m\u001b[1;33m,\u001b[0m \u001b[0mmianshizhe\u001b[0m\u001b[1;33m,\u001b[0m \u001b[0mmatch\u001b[0m\u001b[1;33m,\u001b[0m\u001b[0mrow\u001b[0m\u001b[1;33m+\u001b[0m\u001b[1;36m1\u001b[0m\u001b[1;33m,\u001b[0m\u001b[1;36m0\u001b[0m\u001b[1;33m)\u001b[0m\u001b[1;33m\u001b[0m\u001b[1;33m\u001b[0m\u001b[0m\n\u001b[0;32m     20\u001b[0m         \u001b[1;32melse\u001b[0m\u001b[1;33m:\u001b[0m\u001b[1;33m\u001b[0m\u001b[1;33m\u001b[0m\u001b[0m\n\u001b[1;32m---> 21\u001b[1;33m             \u001b[0mret\u001b[0m \u001b[1;33m=\u001b[0m \u001b[0mdfs\u001b[0m\u001b[1;33m(\u001b[0m\u001b[0mdp_m\u001b[0m\u001b[1;33m,\u001b[0m \u001b[0mdp_n\u001b[0m\u001b[1;33m,\u001b[0m \u001b[0mmianshiguan\u001b[0m\u001b[1;33m,\u001b[0m\u001b[0mmianshizhe\u001b[0m\u001b[1;33m,\u001b[0m\u001b[0mmatch\u001b[0m\u001b[1;33m,\u001b[0m\u001b[0mrow\u001b[0m\u001b[1;33m,\u001b[0m\u001b[0mcol\u001b[0m\u001b[1;33m+\u001b[0m\u001b[1;36m1\u001b[0m\u001b[1;33m)\u001b[0m\u001b[1;33m\u001b[0m\u001b[1;33m\u001b[0m\u001b[0m\n\u001b[0m\u001b[0;32m     22\u001b[0m         \u001b[1;32mif\u001b[0m \u001b[0mret\u001b[0m\u001b[1;33m:\u001b[0m\u001b[1;33m\u001b[0m\u001b[1;33m\u001b[0m\u001b[0m\n\u001b[0;32m     23\u001b[0m             \u001b[1;32mreturn\u001b[0m \u001b[1;32mTrue\u001b[0m\u001b[1;33m\u001b[0m\u001b[1;33m\u001b[0m\u001b[0m\n",
      "\u001b[1;32mC:\\Users\\ARCOBA~1\\AppData\\Local\\Temp/ipykernel_26972/2663991740.py\u001b[0m in \u001b[0;36mdfs\u001b[1;34m(dp_m, dp_n, mianshiguan, mianshizhe, match, row, col)\u001b[0m\n\u001b[0;32m     27\u001b[0m     \u001b[1;32mif\u001b[0m \u001b[0mcol\u001b[0m\u001b[1;33m==\u001b[0m\u001b[0mn\u001b[0m\u001b[1;33m-\u001b[0m\u001b[1;36m1\u001b[0m\u001b[1;33m:\u001b[0m\u001b[1;33m\u001b[0m\u001b[1;33m\u001b[0m\u001b[0m\n\u001b[0;32m     28\u001b[0m         \u001b[1;32mreturn\u001b[0m \u001b[0mdfs\u001b[0m\u001b[1;33m(\u001b[0m\u001b[0mdp_m\u001b[0m\u001b[1;33m,\u001b[0m \u001b[0mdp_n\u001b[0m\u001b[1;33m,\u001b[0m \u001b[0mmianshiguan\u001b[0m\u001b[1;33m,\u001b[0m\u001b[0mmianshizhe\u001b[0m\u001b[1;33m,\u001b[0m\u001b[0mmatch\u001b[0m\u001b[1;33m,\u001b[0m\u001b[0mrow\u001b[0m\u001b[1;33m+\u001b[0m\u001b[1;36m1\u001b[0m\u001b[1;33m,\u001b[0m\u001b[1;36m0\u001b[0m\u001b[1;33m)\u001b[0m\u001b[1;33m\u001b[0m\u001b[1;33m\u001b[0m\u001b[0m\n\u001b[1;32m---> 29\u001b[1;33m     \u001b[1;32mreturn\u001b[0m \u001b[0mdfs\u001b[0m\u001b[1;33m(\u001b[0m\u001b[0mdp_m\u001b[0m\u001b[1;33m,\u001b[0m \u001b[0mdp_n\u001b[0m\u001b[1;33m,\u001b[0m \u001b[0mmianshiguan\u001b[0m\u001b[1;33m,\u001b[0m\u001b[0mmianshizhe\u001b[0m\u001b[1;33m,\u001b[0m\u001b[0mmatch\u001b[0m\u001b[1;33m,\u001b[0m\u001b[0mrow\u001b[0m\u001b[1;33m,\u001b[0m\u001b[0mcol\u001b[0m\u001b[1;33m+\u001b[0m\u001b[1;36m1\u001b[0m\u001b[1;33m)\u001b[0m\u001b[1;33m\u001b[0m\u001b[1;33m\u001b[0m\u001b[0m\n\u001b[0m",
      "\u001b[1;32mC:\\Users\\ARCOBA~1\\AppData\\Local\\Temp/ipykernel_26972/2663991740.py\u001b[0m in \u001b[0;36mdfs\u001b[1;34m(dp_m, dp_n, mianshiguan, mianshizhe, match, row, col)\u001b[0m\n\u001b[0;32m     12\u001b[0m     \u001b[1;32mif\u001b[0m \u001b[0mmianshizhe\u001b[0m\u001b[1;33m[\u001b[0m\u001b[0mcol\u001b[0m\u001b[1;33m]\u001b[0m \u001b[1;32min\u001b[0m \u001b[0mmianshiguan\u001b[0m\u001b[1;33m[\u001b[0m\u001b[0mrow\u001b[0m\u001b[1;33m]\u001b[0m\u001b[1;33m:\u001b[0m\u001b[1;33m\u001b[0m\u001b[1;33m\u001b[0m\u001b[0m\n\u001b[0;32m     13\u001b[0m         \u001b[1;32mif\u001b[0m\u001b[1;33m(\u001b[0m\u001b[0mdp_m\u001b[0m\u001b[1;33m[\u001b[0m\u001b[0mrow\u001b[0m\u001b[1;33m]\u001b[0m\u001b[1;33m<\u001b[0m\u001b[0mx\u001b[0m \u001b[1;32mand\u001b[0m \u001b[0mdp_n\u001b[0m\u001b[1;33m[\u001b[0m\u001b[0mcol\u001b[0m\u001b[1;33m]\u001b[0m\u001b[1;33m<\u001b[0m\u001b[1;36m2\u001b[0m\u001b[1;33m)\u001b[0m\u001b[1;33m:\u001b[0m\u001b[1;33m\u001b[0m\u001b[1;33m\u001b[0m\u001b[0m\n\u001b[1;32m---> 14\u001b[1;33m             \u001b[0mmatch\u001b[0m\u001b[1;33m[\u001b[0m\u001b[0mrow\u001b[0m\u001b[1;33m]\u001b[0m\u001b[1;33m[\u001b[0m\u001b[0mcol\u001b[0m\u001b[1;33m]\u001b[0m \u001b[1;33m=\u001b[0m \u001b[1;36m1\u001b[0m\u001b[1;33m\u001b[0m\u001b[1;33m\u001b[0m\u001b[0m\n\u001b[0m\u001b[0;32m     15\u001b[0m             \u001b[0mdp_m\u001b[0m\u001b[1;33m[\u001b[0m\u001b[0mrow\u001b[0m\u001b[1;33m]\u001b[0m \u001b[1;33m+=\u001b[0m\u001b[1;36m1\u001b[0m\u001b[1;33m\u001b[0m\u001b[1;33m\u001b[0m\u001b[0m\n\u001b[0;32m     16\u001b[0m             \u001b[0mdp_n\u001b[0m\u001b[1;33m[\u001b[0m\u001b[0mcol\u001b[0m\u001b[1;33m]\u001b[0m \u001b[1;33m+=\u001b[0m\u001b[1;36m1\u001b[0m\u001b[1;33m\u001b[0m\u001b[1;33m\u001b[0m\u001b[0m\n",
      "\u001b[1;31mIndexError\u001b[0m: list assignment index out of range"
     ]
    }
   ],
   "source": [
    "ret = dfs(dp_m,dp_n,mianshiguan,mianshizhe,match,0,0)"
   ]
  }
 ],
 "metadata": {
  "kernelspec": {
   "display_name": "Python 3.8.5 ('pytorch')",
   "language": "python",
   "name": "python3"
  },
  "language_info": {
   "codemirror_mode": {
    "name": "ipython",
    "version": 3
   },
   "file_extension": ".py",
   "mimetype": "text/x-python",
   "name": "python",
   "nbconvert_exporter": "python",
   "pygments_lexer": "ipython3",
   "version": "3.8.5"
  },
  "vscode": {
   "interpreter": {
    "hash": "5b5292cc5f82d8561d05c044f8ed41e8f78352f5ad17a4513f2686858f295381"
   }
  }
 },
 "nbformat": 4,
 "nbformat_minor": 2
}
