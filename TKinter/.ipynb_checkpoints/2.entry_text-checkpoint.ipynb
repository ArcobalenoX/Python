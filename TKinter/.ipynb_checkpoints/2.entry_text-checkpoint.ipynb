{
 "cells": [
  {
   "cell_type": "code",
   "execution_count": 2,
   "metadata": {},
   "outputs": [],
   "source": [
    "import tkinter as tk"
   ]
  },
  {
   "cell_type": "code",
   "execution_count": 17,
   "metadata": {},
   "outputs": [],
   "source": [
    "def insert_cursor():\n",
    "    var=entry.get()\n",
    "    text.insert('insert',var)\n",
    "def insert_end():\n",
    "    var=entry.get()\n",
    "    text.insert('end',var)\n",
    "    text.insert(2.1,var)#插入到行.列\n",
    "    "
   ]
  },
  {
   "cell_type": "code",
   "execution_count": 18,
   "metadata": {},
   "outputs": [],
   "source": [
    "window = tk.Tk()\n",
    "window.title('hit')\n",
    "window.geometry('400x400')\n",
    "\n",
    "#entry = tk.Entry(window,show='*')\n",
    "entry = tk.Entry(window)\n",
    "\n",
    "entry.pack()\n",
    "\n",
    "\n",
    "button1 = tk.Button(window,text='insert',width=20,height=2,command=insert_cursor)\n",
    "button1.pack()\n",
    "\n",
    "button2 = tk.Button(window,text='insert end',width=20,height=2,command=insert_end)\n",
    "button2.pack()\n",
    "\n",
    "text = tk.Text(window,height=2)\n",
    "text.pack()\n",
    "\n",
    "window.mainloop()\n"
   ]
  },
  {
   "cell_type": "code",
   "execution_count": null,
   "metadata": {},
   "outputs": [],
   "source": []
  },
  {
   "cell_type": "code",
   "execution_count": null,
   "metadata": {},
   "outputs": [],
   "source": []
  }
 ],
 "metadata": {
  "kernelspec": {
   "display_name": "Python 3",
   "language": "python",
   "name": "python3"
  },
  "language_info": {
   "codemirror_mode": {
    "name": "ipython",
    "version": 3
   },
   "file_extension": ".py",
   "mimetype": "text/x-python",
   "name": "python",
   "nbconvert_exporter": "python",
   "pygments_lexer": "ipython3",
   "version": "3.7.3"
  }
 },
 "nbformat": 4,
 "nbformat_minor": 2
}
