{
 "cells": [
  {
   "cell_type": "code",
   "execution_count": 3,
   "source": [
    "import os\r\n",
    "import time \r\n",
    "from pynput import keyboard,mouse\r\n",
    "from pynput.mouse import Button,Listener,Controller,Events\r\n",
    "from pynput.keyboard import Key,Listener,Controller,Events,KeyCode,HotKey,GlobalHotKeys\r\n"
   ],
   "outputs": [],
   "metadata": {}
  },
  {
   "cell_type": "markdown",
   "source": [
    "# mouse"
   ],
   "metadata": {}
  },
  {
   "cell_type": "code",
   "execution_count": null,
   "source": [
    "mouse = Controller()\r\n",
    "print(mouse.position)\r\n",
    "time.sleep(3)\r\n",
    "print('The current pointer position is {0}'.format(mouse.position))\r\n",
    "\r\n",
    "\r\n",
    "#set pointer positon\r\n",
    "mouse.position = (500, 500)\r\n",
    "print('now we have moved it to {0}'.format(mouse.position))\r\n",
    "\r\n",
    "#鼠标移动（x,y）个距离\r\n",
    "mouse.move(5, -5)\r\n",
    "print(mouse.position)\r\n",
    "\r\n",
    "mouse.press(Button.left)\r\n",
    "mouse.release(Button.left)\r\n",
    "\r\n",
    "#Double click\r\n",
    "mouse.click(Button.left, 1)\r\n",
    "\r\n",
    "#scroll two steps down\r\n",
    "mouse.scroll(0, 500)"
   ],
   "outputs": [],
   "metadata": {}
  },
  {
   "cell_type": "markdown",
   "source": [
    "# keyboard"
   ],
   "metadata": {}
  },
  {
   "cell_type": "code",
   "execution_count": null,
   "source": [
    "def press(key):\r\n",
    "    print(f\"press {key}\")\r\n",
    "    if key==Key.esc:\r\n",
    "        return False\r\n",
    "def release(key):\r\n",
    "    print(f\"release {key}\")        "
   ],
   "outputs": [],
   "metadata": {}
  },
  {
   "cell_type": "code",
   "execution_count": null,
   "source": [
    "while True:\r\n",
    "    with keyboard.Listener(on_press=press,on_release=release) as listener:\r\n",
    "        listener.join()"
   ],
   "outputs": [],
   "metadata": {}
  },
  {
   "cell_type": "code",
   "execution_count": 1,
   "source": [
    "def on_press(key):\r\n",
    "    try:\r\n",
    "        print(f'alphanumeric key {key.char} pressed')\r\n",
    "        if key.char=='b':\r\n",
    "            keyboard.press('b')\r\n",
    "            print('key b pressed')\r\n",
    "            keyboard.release('b')\r\n",
    "    except AttributeError:\r\n",
    "        print(f'special key {key} pressed')\r\n",
    "\r\n",
    "def on_release(key):\r\n",
    "    print(f'{key} released')\r\n",
    "    if key == keyboard.Key.esc:\r\n",
    "          return False"
   ],
   "outputs": [],
   "metadata": {}
  },
  {
   "cell_type": "code",
   "execution_count": 4,
   "source": [
    "with keyboard.Listener(on_press = on_press,on_release = on_release) as listener:\r\n",
    "    listener.join()"
   ],
   "outputs": [
    {
     "output_type": "stream",
     "name": "stdout",
     "text": [
      "Key.ctrl_r released\n",
      "Key.enter released\n",
      "special key Key.esc pressed\n",
      "Key.esc released\n"
     ]
    }
   ],
   "metadata": {}
  }
 ],
 "metadata": {
  "kernelspec": {
   "name": "python3",
   "display_name": "Python 3.8.5 64-bit ('pytorch': conda)"
  },
  "language_info": {
   "codemirror_mode": {
    "name": "ipython",
    "version": 3
   },
   "file_extension": ".py",
   "mimetype": "text/x-python",
   "name": "python",
   "nbconvert_exporter": "python",
   "pygments_lexer": "ipython3",
   "version": "3.8.5"
  },
  "interpreter": {
   "hash": "c2c0bba31bef276960c92166e4dc324d20d321691368e020af08fea8957d0a65"
  }
 },
 "nbformat": 4,
 "nbformat_minor": 2
}