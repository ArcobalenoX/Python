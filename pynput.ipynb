{
 "cells": [
  {
   "cell_type": "code",
   "execution_count": 3,
   "metadata": {},
   "outputs": [],
   "source": [
    "import os\n",
    "import time \n",
    "from pynput import keyboard,mouse\n",
    "from pynput.mouse import Button,Listener,Controller,Events\n",
    "from pynput.keyboard import Key,Listener,Controller,Events,KeyCode,HotKey,GlobalHotKeys\n"
   ]
  },
  {
   "cell_type": "markdown",
   "metadata": {},
   "source": [
    "# mouse"
   ]
  },
  {
   "cell_type": "code",
   "execution_count": null,
   "metadata": {},
   "outputs": [],
   "source": [
    "mouse = Controller()\n",
    "print(mouse.position)\n",
    "time.sleep(3)\n",
    "print('The current pointer position is {0}'.format(mouse.position))\n",
    "\n",
    "\n",
    "#set pointer positon\n",
    "mouse.position = (500, 500)\n",
    "print('now we have moved it to {0}'.format(mouse.position))\n",
    "\n",
    "#鼠标移动（x,y）个距离\n",
    "mouse.move(5, -5)\n",
    "print(mouse.position)\n",
    "\n",
    "mouse.press(Button.left)\n",
    "mouse.release(Button.left)\n",
    "\n",
    "#Double click\n",
    "mouse.click(Button.left, 1)\n",
    "\n",
    "#scroll two steps down\n",
    "mouse.scroll(0, 500)"
   ]
  },
  {
   "cell_type": "markdown",
   "metadata": {},
   "source": [
    "# keyboard"
   ]
  },
  {
   "cell_type": "code",
   "execution_count": null,
   "metadata": {},
   "outputs": [],
   "source": [
    "def press(key):\n",
    "    print(f\"press {key}\")\n",
    "    if key==Key.esc:\n",
    "        return False\n",
    "def release(key):\n",
    "    print(f\"release {key}\")        "
   ]
  },
  {
   "cell_type": "code",
   "execution_count": null,
   "metadata": {},
   "outputs": [],
   "source": [
    "while True:\n",
    "    with keyboard.Listener(on_press=press,on_release=release) as listener:\n",
    "        listener.join()"
   ]
  },
  {
   "cell_type": "code",
   "execution_count": 1,
   "metadata": {},
   "outputs": [],
   "source": [
    "def on_press(key):\n",
    "    try:\n",
    "        print(f'alphanumeric key {key.char} pressed')\n",
    "        if key.char=='b':\n",
    "            keyboard.press('b')\n",
    "            print('key b pressed')\n",
    "            keyboard.release('b')\n",
    "    except AttributeError:\n",
    "        print(f'special key {key} pressed')\n",
    "\n",
    "def on_release(key):\n",
    "    print(f'{key} released')\n",
    "    if key == keyboard.Key.esc:\n",
    "          return False"
   ]
  },
  {
   "cell_type": "code",
   "execution_count": 4,
   "metadata": {},
   "outputs": [
    {
     "name": "stdout",
     "output_type": "stream",
     "text": [
      "Key.ctrl_r released\n",
      "Key.enter released\n",
      "special key Key.esc pressed\n",
      "Key.esc released\n"
     ]
    }
   ],
   "source": [
    "with keyboard.Listener(on_press = on_press,on_release = on_release) as listener:\n",
    "    listener.join()"
   ]
  }
 ],
 "metadata": {
  "kernelspec": {
   "display_name": "Python 3.8.5 ('pytorch')",
   "language": "python",
   "name": "python3"
  },
  "language_info": {
   "codemirror_mode": {
    "name": "ipython",
    "version": 3
   },
   "file_extension": ".py",
   "mimetype": "text/x-python",
   "name": "python",
   "nbconvert_exporter": "python",
   "pygments_lexer": "ipython3",
   "version": "3.8.5"
  },
  "vscode": {
   "interpreter": {
    "hash": "5b5292cc5f82d8561d05c044f8ed41e8f78352f5ad17a4513f2686858f295381"
   }
  }
 },
 "nbformat": 4,
 "nbformat_minor": 2
}
